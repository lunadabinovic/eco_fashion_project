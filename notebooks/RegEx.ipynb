{
 "cells": [
  {
   "cell_type": "markdown",
   "metadata": {},
   "source": [
    "# Regex"
   ]
  },
  {
   "cell_type": "markdown",
   "metadata": {},
   "source": [
    "## Cleaning the String!"
   ]
  },
  {
   "cell_type": "code",
   "execution_count": 327,
   "metadata": {},
   "outputs": [],
   "source": [
    "text1 = '\\n\\nGB: Shell fabric1:100% polyester\\nrecycled\\n\\nLining:100% polyester recycled\\nPadding: 100% recycled content\\nNL: Bovenstoft: 100% polyester\\ngerecyciede\\n\\nVoering: 100% polyester serecyelade\\nVulling: 100% geracyclede inhoud\\n\\nDE: Oberstofft: 100% Polyester reeyveett\\nFutter: 100% Polyester recyceit\\nWattierung: 100% recycelt Inhalt\\n\\nFR: Etoffe extéricuret: 100%\\npolyester recycle\\n\\nDoublura: 100% polyester recycle\\nRemplissage: 100% recyclé content\\n\\n——_- —-\\n\\n \\n\\n \\n\\x0c'"
   ]
  },
  {
   "cell_type": "code",
   "execution_count": 328,
   "metadata": {},
   "outputs": [
    {
     "data": {
      "text/plain": [
       "['GB:',\n",
       " 'Shell',\n",
       " 'fabric1:100%',\n",
       " 'polyester',\n",
       " 'recycled',\n",
       " 'Lining:100%',\n",
       " 'polyester',\n",
       " 'recycled',\n",
       " 'Padding:',\n",
       " '100%',\n",
       " 'recycled',\n",
       " 'content',\n",
       " 'NL:',\n",
       " 'Bovenstoft:',\n",
       " '100%',\n",
       " 'polyester',\n",
       " 'gerecyciede',\n",
       " 'Voering:',\n",
       " '100%',\n",
       " 'polyester',\n",
       " 'serecyelade',\n",
       " 'Vulling:',\n",
       " '100%',\n",
       " 'geracyclede',\n",
       " 'inhoud',\n",
       " 'DE:',\n",
       " 'Oberstofft:',\n",
       " '100%',\n",
       " 'Polyester',\n",
       " 'reeyveett',\n",
       " 'Futter:',\n",
       " '100%',\n",
       " 'Polyester',\n",
       " 'recyceit',\n",
       " 'Wattierung:',\n",
       " '100%',\n",
       " 'recycelt',\n",
       " 'Inhalt',\n",
       " 'FR:',\n",
       " 'Etoffe',\n",
       " 'extéricuret:',\n",
       " '100%',\n",
       " 'polyester',\n",
       " 'recycle',\n",
       " 'Doublura:',\n",
       " '100%',\n",
       " 'polyester',\n",
       " 'recycle',\n",
       " 'Remplissage:',\n",
       " '100%',\n",
       " 'recyclé',\n",
       " 'content',\n",
       " '——_-',\n",
       " '—-']"
      ]
     },
     "execution_count": 328,
     "metadata": {},
     "output_type": "execute_result"
    }
   ],
   "source": [
    "text1.split()"
   ]
  },
  {
   "cell_type": "code",
   "execution_count": 329,
   "metadata": {},
   "outputs": [
    {
     "ename": "TypeError",
     "evalue": "'str' object is not callable",
     "output_type": "error",
     "traceback": [
      "\u001b[0;31m---------------------------------------------------------------------------\u001b[0m",
      "\u001b[0;31mTypeError\u001b[0m                                 Traceback (most recent call last)",
      "\u001b[0;32m<ipython-input-329-9eff29675856>\u001b[0m in \u001b[0;36m<module>\u001b[0;34m\u001b[0m\n\u001b[0;32m----> 1\u001b[0;31m \u001b[0mprint\u001b[0m\u001b[0;34m(\u001b[0m\u001b[0mlist\u001b[0m\u001b[0;34m(\u001b[0m\u001b[0mmap\u001b[0m\u001b[0;34m(\u001b[0m\u001b[0;32mlambda\u001b[0m \u001b[0mx\u001b[0m\u001b[0;34m:\u001b[0m \u001b[0mx\u001b[0m\u001b[0;34m.\u001b[0m\u001b[0mlower\u001b[0m\u001b[0;34m(\u001b[0m\u001b[0;34m)\u001b[0m\u001b[0;34m,\u001b[0m \u001b[0mtext1\u001b[0m\u001b[0;34m)\u001b[0m\u001b[0;34m)\u001b[0m\u001b[0;34m)\u001b[0m\u001b[0;34m\u001b[0m\u001b[0;34m\u001b[0m\u001b[0m\n\u001b[0m",
      "\u001b[0;31mTypeError\u001b[0m: 'str' object is not callable"
     ]
    }
   ],
   "source": [
    "print(list(map(lambda x: x.lower(), text1)))"
   ]
  },
  {
   "cell_type": "code",
   "execution_count": null,
   "metadata": {},
   "outputs": [],
   "source": []
  },
  {
   "cell_type": "code",
   "execution_count": 317,
   "metadata": {},
   "outputs": [],
   "source": []
  },
  {
   "cell_type": "code",
   "execution_count": null,
   "metadata": {},
   "outputs": [],
   "source": []
  },
  {
   "cell_type": "code",
   "execution_count": null,
   "metadata": {},
   "outputs": [],
   "source": []
  },
  {
   "cell_type": "code",
   "execution_count": 283,
   "metadata": {},
   "outputs": [],
   "source": [
    "import re \n",
    "import string"
   ]
  },
  {
   "cell_type": "code",
   "execution_count": 304,
   "metadata": {},
   "outputs": [],
   "source": [
    "txt1 = '\\n\\nGB: Shell fabric1:100% polyester\\nrecycled\\n\\nLining:100% polyester recycled\\nPadding: 100% recycled content\\nNL: Bovenstoft: 100% polyester\\ngerecyciede\\n\\nVoering: 100% polyester serecyelade\\nVulling: 100% geracyclede inhoud\\n\\nDE: Oberstofft: 100% Polyester reeyveett\\nFutter: 100% Polyester recyceit\\nWattierung: 100% recycelt Inhalt\\n\\nFR: Etoffe extéricuret: 100%\\npolyester recycle\\n\\nDoublura: 100% polyester recycle\\nRemplissage: 100% recyclé content\\n\\n——_- —-\\n\\n \\n\\n \\n\\x0c'"
   ]
  },
  {
   "cell_type": "code",
   "execution_count": 282,
   "metadata": {},
   "outputs": [],
   "source": [
    "txt1 = txt1.lower()\n"
   ]
  },
  {
   "cell_type": "code",
   "execution_count": 290,
   "metadata": {},
   "outputs": [],
   "source": [
    "exclude = set(string.punctuation)\n",
    "txt1 = ''.join(ch for ch in txt1 if ch not in exclude)"
   ]
  },
  {
   "cell_type": "code",
   "execution_count": 293,
   "metadata": {},
   "outputs": [],
   "source": [
    "txt1 = re.split('\\n',txt1)"
   ]
  },
  {
   "cell_type": "code",
   "execution_count": 298,
   "metadata": {},
   "outputs": [],
   "source": [
    "txt1 = result = ''.join([i for i in txt1 if not i.isdigit()])"
   ]
  },
  {
   "cell_type": "code",
   "execution_count": 299,
   "metadata": {},
   "outputs": [
    {
     "data": {
      "text/plain": [
       "'gb shell fabric polyesterrecycledlining polyester recycledpadding  recycled contentnl bovenstoft  polyestergerecyciedevoering  polyester serecyeladevulling  geracyclede inhoudde oberstofft  polyester reeyveettfutter  polyester recyceitwattierung  recycelt inhaltfr etoffe extéricuret polyester recycledoublura  polyester recycleremplissage  recyclé content—— —  \\x0c'"
      ]
     },
     "execution_count": 299,
     "metadata": {},
     "output_type": "execute_result"
    }
   ],
   "source": [
    "txt1"
   ]
  },
  {
   "cell_type": "code",
   "execution_count": 305,
   "metadata": {},
   "outputs": [],
   "source": [
    "# function to lowercase, remove numbers and special characters \n",
    "def clean_string(text):\n",
    "    txt = text.lower()\n",
    "    exclude = set(string.punctuation)\n",
    "    txt = ''.join(ch for ch in txt if ch not in exclude)\n",
    "    txt = re.split('\\n',txt)\n",
    "    txt = result = ''.join([i for i in txt if not i.isdigit()])\n",
    "    return txt "
   ]
  },
  {
   "cell_type": "code",
   "execution_count": null,
   "metadata": {},
   "outputs": [],
   "source": []
  },
  {
   "cell_type": "markdown",
   "metadata": {},
   "source": [
    "## Dict of percentage and combined Fiber "
   ]
  },
  {
   "cell_type": "code",
   "execution_count": 278,
   "metadata": {},
   "outputs": [],
   "source": [
    "txt1 = re.split('\\n',txt1)"
   ]
  },
  {
   "cell_type": "code",
   "execution_count": 279,
   "metadata": {},
   "outputs": [
    {
     "data": {
      "text/plain": [
       "['',\n",
       " '',\n",
       " 'GB: Shell fabric1:100% polyester',\n",
       " 'recycled',\n",
       " '',\n",
       " 'Lining:100% polyester recycled',\n",
       " 'Padding: 100% recycled content',\n",
       " 'NL: Bovenstoft: 100% polyester',\n",
       " 'gerecyciede',\n",
       " '',\n",
       " 'Voering: 100% polyester serecyelade',\n",
       " 'Vulling: 100% geracyclede inhoud',\n",
       " '',\n",
       " 'DE: Oberstofft: 100% Polyester reeyveett',\n",
       " 'Futter: 100% Polyester recyceit',\n",
       " 'Wattierung: 100% recycelt Inhalt',\n",
       " '',\n",
       " 'FR: Etoffe extéricuret: 100%',\n",
       " 'polyester recycle',\n",
       " '',\n",
       " 'Doublura: 100% polyester recycle',\n",
       " 'Remplissage: 100% recyclé content',\n",
       " '',\n",
       " '——_- —-',\n",
       " '',\n",
       " ' ',\n",
       " '',\n",
       " ' ',\n",
       " '\\x0c']"
      ]
     },
     "execution_count": 279,
     "metadata": {},
     "output_type": "execute_result"
    }
   ],
   "source": [
    "txt1"
   ]
  },
  {
   "cell_type": "code",
   "execution_count": 258,
   "metadata": {},
   "outputs": [],
   "source": [
    "#clean_list = []\n",
    "#for word in txt1: \n",
    "    #if word != '':\n",
    "        #clean_list.append(word)"
   ]
  },
  {
   "cell_type": "code",
   "execution_count": 259,
   "metadata": {},
   "outputs": [],
   "source": [
    "#clean_list"
   ]
  },
  {
   "cell_type": "code",
   "execution_count": 260,
   "metadata": {},
   "outputs": [],
   "source": [
    "#for string in clean_list:\n",
    "     #re.findall(r'((\\d+)[%](\\w+)*)',string2)"
   ]
  },
  {
   "cell_type": "code",
   "execution_count": 274,
   "metadata": {},
   "outputs": [],
   "source": [
    "txt1 = txt.replace(\" \", \"\")"
   ]
  },
  {
   "cell_type": "code",
   "execution_count": 262,
   "metadata": {},
   "outputs": [],
   "source": [
    "x = re.findall(r'((\\d+)[%](\\w+)*)',txt1)"
   ]
  },
  {
   "cell_type": "code",
   "execution_count": 263,
   "metadata": {},
   "outputs": [
    {
     "data": {
      "text/plain": [
       "[('100%polyester', '100', 'polyester'),\n",
       " ('100%polyesterrecycled', '100', 'polyesterrecycled'),\n",
       " ('100%recycledcontent', '100', 'recycledcontent'),\n",
       " ('100%polyester', '100', 'polyester'),\n",
       " ('100%polyesterserecyelade', '100', 'polyesterserecyelade'),\n",
       " ('100%geracycledeinhoud', '100', 'geracycledeinhoud'),\n",
       " ('100%Polyesterreeyveett', '100', 'Polyesterreeyveett'),\n",
       " ('100%Polyesterrecyceit', '100', 'Polyesterrecyceit'),\n",
       " ('100%recyceltInhalt', '100', 'recyceltInhalt'),\n",
       " ('100%', '100', ''),\n",
       " ('100%polyesterrecycle', '100', 'polyesterrecycle'),\n",
       " ('100%recyclécontent', '100', 'recyclécontent')]"
      ]
     },
     "execution_count": 263,
     "metadata": {},
     "output_type": "execute_result"
    }
   ],
   "source": [
    "x"
   ]
  },
  {
   "cell_type": "code",
   "execution_count": 264,
   "metadata": {},
   "outputs": [],
   "source": [
    "# function to get a list of dicts with the percentage and the composition for it \n",
    "\n",
    "def list_of_compositions(txt):\n",
    "    txt = txt.lower()\n",
    "    #txt_nowhitespace = txt.replace(\" \", \"\")\n",
    "    lst = re.findall(r'((\\d+)[%](\\w+)*)', txt)\n",
    "    composition_list = []\n",
    "    for tpl in lst:\n",
    "        composition = {}\n",
    "        composition['percentage'] = tpl[1]\n",
    "        composition['fiber'] = tpl[2]\n",
    "        composition_list.append(composition)\n",
    "    return composition_list"
   ]
  },
  {
   "cell_type": "code",
   "execution_count": 265,
   "metadata": {},
   "outputs": [
    {
     "data": {
      "text/plain": [
       "[{'percentage': '100', 'fiber': 'polyester'},\n",
       " {'percentage': '100', 'fiber': 'polyesterrecycled'},\n",
       " {'percentage': '100', 'fiber': 'recycledcontent'},\n",
       " {'percentage': '100', 'fiber': 'polyester'},\n",
       " {'percentage': '100', 'fiber': 'polyesterserecyelade'},\n",
       " {'percentage': '100', 'fiber': 'geracycledeinhoud'},\n",
       " {'percentage': '100', 'fiber': 'polyesterreeyveett'},\n",
       " {'percentage': '100', 'fiber': 'polyesterrecyceit'},\n",
       " {'percentage': '100', 'fiber': 'recyceltinhalt'},\n",
       " {'percentage': '100', 'fiber': ''},\n",
       " {'percentage': '100', 'fiber': 'polyesterrecycle'},\n",
       " {'percentage': '100', 'fiber': 'recyclécontent'}]"
      ]
     },
     "execution_count": 265,
     "metadata": {},
     "output_type": "execute_result"
    }
   ],
   "source": [
    "list_of_compositions(txt1)"
   ]
  },
  {
   "cell_type": "code",
   "execution_count": null,
   "metadata": {},
   "outputs": [],
   "source": []
  },
  {
   "cell_type": "code",
   "execution_count": null,
   "metadata": {},
   "outputs": [],
   "source": []
  },
  {
   "cell_type": "code",
   "execution_count": null,
   "metadata": {},
   "outputs": [],
   "source": []
  },
  {
   "cell_type": "code",
   "execution_count": null,
   "metadata": {},
   "outputs": [],
   "source": []
  },
  {
   "cell_type": "markdown",
   "metadata": {},
   "source": [
    "## 2nd example"
   ]
  },
  {
   "cell_type": "code",
   "execution_count": 266,
   "metadata": {},
   "outputs": [],
   "source": [
    "# 2nd example \n",
    "txt2 = 'Waist S@rstpilio riot ©brologiatgigaaters or Soc dry Piai:torstane Rinse and hang: Sey Immediat,J0% COTTON | GOTOR'"
   ]
  },
  {
   "cell_type": "code",
   "execution_count": 267,
   "metadata": {},
   "outputs": [],
   "source": [
    "#txt2 = txt2.replace(\" \", \"\")"
   ]
  },
  {
   "cell_type": "code",
   "execution_count": 268,
   "metadata": {},
   "outputs": [
    {
     "data": {
      "text/plain": [
       "'Waist S@rstpilio riot ©brologiatgigaaters or Soc dry Piai:torstane Rinse and hang: Sey Immediat,J0% COTTON | GOTOR'"
      ]
     },
     "execution_count": 268,
     "metadata": {},
     "output_type": "execute_result"
    }
   ],
   "source": [
    "txt2"
   ]
  },
  {
   "cell_type": "code",
   "execution_count": 269,
   "metadata": {},
   "outputs": [
    {
     "data": {
      "text/plain": [
       "[('0% COTTON', ' COTTON')]"
      ]
     },
     "execution_count": 269,
     "metadata": {},
     "output_type": "execute_result"
    }
   ],
   "source": [
    "re.findall(r'(\\d+[%](\\s\\w+)*)', txt2)"
   ]
  },
  {
   "cell_type": "markdown",
   "metadata": {},
   "source": [
    "## 3rd example"
   ]
  },
  {
   "cell_type": "code",
   "execution_count": 270,
   "metadata": {},
   "outputs": [],
   "source": [
    "txt3 = \"4 | .'\\n\\n| } \\\\\\n\\n. P a : . e '\\naA : : a 4\\n\\n4 e ' Be ] oe\\na. '> 2 i af J j\\nBes ASL Pe. Be % £.y €.& £45. i\\n_ ie! > wes = ' : _— yy ;  rf _ _\\n% 4 he F Fe Rd Df I F VTE\\na ah oy oo a e b, Ad b Wy a ell b ~~\\n\\n \\n\\n51%COTTON 49%POLESTER\\n\\n \\n\\nADOBE\\nMADE IN CHINA\\nRN129860 CA00108\\nMACHINE WASH COLD SEPARATELY\\nDO NOT BLEACH\\nDRIP DRY IN SHADE\\nDO NOT TUMBLE DRY\\nWARM IRON ONLY\\nDO NOT DRY CLEAN ,\\nLaver a la machine a l'eau frotde\\nseparement\\nNe pas javelliser\\nEtendre Mouille ,\\nNe pas sécher a la machine\\nRepasser au fer chaud seulement\\n_ Pas de nettoyane a sec\\n\\x0c\""
   ]
  },
  {
   "cell_type": "code",
   "execution_count": 271,
   "metadata": {},
   "outputs": [],
   "source": [
    "#txt3 = txt3.replace(\" \", \"\")"
   ]
  },
  {
   "cell_type": "code",
   "execution_count": 272,
   "metadata": {},
   "outputs": [
    {
     "data": {
      "text/plain": [
       "\"4 | .'\\n\\n| } \\\\\\n\\n. P a : . e '\\naA : : a 4\\n\\n4 e ' Be ] oe\\na. '> 2 i af J j\\nBes ASL Pe. Be % £.y €.& £45. i\\n_ ie! > wes = ' : _— yy ;  rf _ _\\n% 4 he F Fe Rd Df I F VTE\\na ah oy oo a e b, Ad b Wy a ell b ~~\\n\\n \\n\\n51%COTTON 49%POLESTER\\n\\n \\n\\nADOBE\\nMADE IN CHINA\\nRN129860 CA00108\\nMACHINE WASH COLD SEPARATELY\\nDO NOT BLEACH\\nDRIP DRY IN SHADE\\nDO NOT TUMBLE DRY\\nWARM IRON ONLY\\nDO NOT DRY CLEAN ,\\nLaver a la machine a l'eau frotde\\nseparement\\nNe pas javelliser\\nEtendre Mouille ,\\nNe pas sécher a la machine\\nRepasser au fer chaud seulement\\n_ Pas de nettoyane a sec\\n\\x0c\""
      ]
     },
     "execution_count": 272,
     "metadata": {},
     "output_type": "execute_result"
    }
   ],
   "source": [
    "txt3"
   ]
  },
  {
   "cell_type": "code",
   "execution_count": 273,
   "metadata": {},
   "outputs": [
    {
     "data": {
      "text/plain": [
       "[{'percentage': '51', 'fiber': 'cotton'},\n",
       " {'percentage': '49', 'fiber': 'polester'}]"
      ]
     },
     "execution_count": 273,
     "metadata": {},
     "output_type": "execute_result"
    }
   ],
   "source": [
    "list_of_compositions(txt3)"
   ]
  },
  {
   "cell_type": "code",
   "execution_count": null,
   "metadata": {},
   "outputs": [],
   "source": []
  },
  {
   "cell_type": "code",
   "execution_count": null,
   "metadata": {},
   "outputs": [],
   "source": []
  },
  {
   "cell_type": "code",
   "execution_count": null,
   "metadata": {},
   "outputs": [],
   "source": []
  }
 ],
 "metadata": {
  "kernelspec": {
   "display_name": "Python 3",
   "language": "python",
   "name": "python3"
  },
  "language_info": {
   "codemirror_mode": {
    "name": "ipython",
    "version": 3
   },
   "file_extension": ".py",
   "mimetype": "text/x-python",
   "name": "python",
   "nbconvert_exporter": "python",
   "pygments_lexer": "ipython3",
   "version": "3.7.7"
  },
  "toc": {
   "base_numbering": 1,
   "nav_menu": {},
   "number_sections": true,
   "sideBar": true,
   "skip_h1_title": false,
   "title_cell": "Table of Contents",
   "title_sidebar": "Contents",
   "toc_cell": false,
   "toc_position": {},
   "toc_section_display": true,
   "toc_window_display": false
  }
 },
 "nbformat": 4,
 "nbformat_minor": 4
}
