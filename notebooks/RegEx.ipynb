{
 "cells": [
  {
   "cell_type": "markdown",
   "metadata": {},
   "source": [
    "# Regex"
   ]
  },
  {
   "cell_type": "markdown",
   "metadata": {},
   "source": [
    "## Cleaning the String!"
   ]
  },
  {
   "cell_type": "code",
   "execution_count": 1,
   "metadata": {},
   "outputs": [],
   "source": [
    "text1 = '\\n\\nGB: Shell fabric1:100% polyester\\nrecycled\\n\\nLining:100% polyester recycled\\nPadding: 100% recycled content\\nNL: Bovenstoft: 100% polyester\\ngerecyciede\\n\\nVoering: 100% polyester serecyelade\\nVulling: 100% geracyclede inhoud\\n\\nDE: Oberstofft: 100% Polyester reeyveett\\nFutter: 100% Polyester recyceit\\nWattierung: 100% recycelt Inhalt\\n\\nFR: Etoffe extéricuret: 100%\\npolyester recycle\\n\\nDoublura: 100% polyester recycle\\nRemplissage: 100% recyclé content\\n\\n——_- —-\\n\\n \\n\\n \\n\\x0c'"
   ]
  },
  {
   "cell_type": "code",
   "execution_count": 2,
   "metadata": {},
   "outputs": [],
   "source": [
    "#text1.split()"
   ]
  },
  {
   "cell_type": "code",
   "execution_count": 3,
   "metadata": {},
   "outputs": [],
   "source": [
    "import re \n",
    "import string"
   ]
  },
  {
   "cell_type": "code",
   "execution_count": 4,
   "metadata": {},
   "outputs": [],
   "source": [
    "txt1 = '\\n\\nGB: Shell fabric1:100% polyester\\nrecycled\\n\\nLining:100% polyester recycled\\nPadding: 100% recycled content\\nNL: Bovenstoft: 100% polyester\\ngerecyciede\\n\\nVoering: 100% polyester serecyelade\\nVulling: 100% geracyclede inhoud\\n\\nDE: Oberstofft: 100% Polyester reeyveett\\nFutter: 100% Polyester recyceit\\nWattierung: 100% recycelt Inhalt\\n\\nFR: Etoffe extéricuret: 100%\\npolyester recycle\\n\\nDoublura: 100% polyester recycle\\nRemplissage: 100% recyclé content\\n\\n——_- —-\\n\\n \\n\\n \\n\\x0c'"
   ]
  },
  {
   "cell_type": "code",
   "execution_count": 5,
   "metadata": {},
   "outputs": [],
   "source": [
    "txt1 = txt1.lower()\n"
   ]
  },
  {
   "cell_type": "code",
   "execution_count": 6,
   "metadata": {},
   "outputs": [],
   "source": [
    "exclude = set(string.punctuation)\n",
    "txt1 = ''.join(ch for ch in txt1 if ch not in exclude)"
   ]
  },
  {
   "cell_type": "code",
   "execution_count": 7,
   "metadata": {},
   "outputs": [],
   "source": [
    "txt1 = re.split('\\n',txt1)"
   ]
  },
  {
   "cell_type": "code",
   "execution_count": 8,
   "metadata": {},
   "outputs": [],
   "source": [
    "txt1 = result = ''.join([i for i in txt1 if not i.isdigit()])"
   ]
  },
  {
   "cell_type": "code",
   "execution_count": 9,
   "metadata": {},
   "outputs": [
    {
     "data": {
      "text/plain": [
       "'gb shell fabric1100 polyesterrecycledlining100 polyester recycledpadding 100 recycled contentnl bovenstoft 100 polyestergerecyciedevoering 100 polyester serecyeladevulling 100 geracyclede inhoudde oberstofft 100 polyester reeyveettfutter 100 polyester recyceitwattierung 100 recycelt inhaltfr etoffe extéricuret 100polyester recycledoublura 100 polyester recycleremplissage 100 recyclé content—— —  \\x0c'"
      ]
     },
     "execution_count": 9,
     "metadata": {},
     "output_type": "execute_result"
    }
   ],
   "source": [
    "txt1"
   ]
  },
  {
   "cell_type": "code",
   "execution_count": 10,
   "metadata": {},
   "outputs": [],
   "source": [
    "# function to lowercase, remove numbers and special characters \n",
    "def clean_string(text):\n",
    "    txt = text.lower()\n",
    "    exclude = set(string.punctuation)\n",
    "    txt = ''.join(ch for ch in txt if ch not in exclude)\n",
    "    txt = re.split('\\n',txt)\n",
    "    txt = result = ''.join([i for i in txt if not i.isdigit()])\n",
    "    return txt "
   ]
  },
  {
   "cell_type": "code",
   "execution_count": 11,
   "metadata": {},
   "outputs": [
    {
     "data": {
      "text/plain": [
       "'gb shell fabric1100 polyesterrecycledlining100 polyester recycledpadding 100 recycled contentnl bovenstoft 100 polyestergerecyciedevoering 100 polyester serecyeladevulling 100 geracyclede inhoudde oberstofft 100 polyester reeyveettfutter 100 polyester recyceitwattierung 100 recycelt inhaltfr etoffe extéricuret 100polyester recycledoublura 100 polyester recycleremplissage 100 recyclé content—— —  \\x0c'"
      ]
     },
     "execution_count": 11,
     "metadata": {},
     "output_type": "execute_result"
    }
   ],
   "source": [
    "clean_string(txt1)"
   ]
  },
  {
   "cell_type": "markdown",
   "metadata": {},
   "source": [
    "## Dict of percentage and combined Fiber "
   ]
  },
  {
   "cell_type": "code",
   "execution_count": 12,
   "metadata": {},
   "outputs": [],
   "source": [
    "text1 = re.split('\\n',text1)"
   ]
  },
  {
   "cell_type": "code",
   "execution_count": 13,
   "metadata": {},
   "outputs": [
    {
     "data": {
      "text/plain": [
       "['',\n",
       " '',\n",
       " 'GB: Shell fabric1:100% polyester',\n",
       " 'recycled',\n",
       " '',\n",
       " 'Lining:100% polyester recycled',\n",
       " 'Padding: 100% recycled content',\n",
       " 'NL: Bovenstoft: 100% polyester',\n",
       " 'gerecyciede',\n",
       " '',\n",
       " 'Voering: 100% polyester serecyelade',\n",
       " 'Vulling: 100% geracyclede inhoud',\n",
       " '',\n",
       " 'DE: Oberstofft: 100% Polyester reeyveett',\n",
       " 'Futter: 100% Polyester recyceit',\n",
       " 'Wattierung: 100% recycelt Inhalt',\n",
       " '',\n",
       " 'FR: Etoffe extéricuret: 100%',\n",
       " 'polyester recycle',\n",
       " '',\n",
       " 'Doublura: 100% polyester recycle',\n",
       " 'Remplissage: 100% recyclé content',\n",
       " '',\n",
       " '——_- —-',\n",
       " '',\n",
       " ' ',\n",
       " '',\n",
       " ' ',\n",
       " '\\x0c']"
      ]
     },
     "execution_count": 13,
     "metadata": {},
     "output_type": "execute_result"
    }
   ],
   "source": [
    "text1"
   ]
  },
  {
   "cell_type": "code",
   "execution_count": 14,
   "metadata": {},
   "outputs": [],
   "source": [
    "#clean_list = []\n",
    "#for word in txt1: \n",
    "    #if word != '':\n",
    "        #clean_list.append(word)"
   ]
  },
  {
   "cell_type": "code",
   "execution_count": 15,
   "metadata": {},
   "outputs": [],
   "source": [
    "#clean_list"
   ]
  },
  {
   "cell_type": "code",
   "execution_count": 16,
   "metadata": {},
   "outputs": [],
   "source": [
    "#for string in clean_list:\n",
    "     #re.findall(r'((\\d+)[%](\\w+)*)',string2)"
   ]
  },
  {
   "cell_type": "code",
   "execution_count": 17,
   "metadata": {},
   "outputs": [],
   "source": [
    "#txt1 = txt.replace(\" \", \"\")"
   ]
  },
  {
   "cell_type": "code",
   "execution_count": 18,
   "metadata": {},
   "outputs": [
    {
     "ename": "AttributeError",
     "evalue": "'list' object has no attribute 'replace'",
     "output_type": "error",
     "traceback": [
      "\u001b[0;31m---------------------------------------------------------------------------\u001b[0m",
      "\u001b[0;31mAttributeError\u001b[0m                            Traceback (most recent call last)",
      "\u001b[0;32m<ipython-input-18-03ab5def7042>\u001b[0m in \u001b[0;36m<module>\u001b[0;34m\u001b[0m\n\u001b[0;32m----> 1\u001b[0;31m \u001b[0mtext1\u001b[0m \u001b[0;34m=\u001b[0m \u001b[0mtext1\u001b[0m\u001b[0;34m.\u001b[0m\u001b[0mreplace\u001b[0m\u001b[0;34m(\u001b[0m\u001b[0;34m'\\n'\u001b[0m\u001b[0;34m,\u001b[0m \u001b[0;34m' '\u001b[0m\u001b[0;34m)\u001b[0m\u001b[0;34m\u001b[0m\u001b[0;34m\u001b[0m\u001b[0m\n\u001b[0m",
      "\u001b[0;31mAttributeError\u001b[0m: 'list' object has no attribute 'replace'"
     ]
    }
   ],
   "source": [
    "text1 = text1.replace('\\n', ' ')"
   ]
  },
  {
   "cell_type": "code",
   "execution_count": null,
   "metadata": {},
   "outputs": [],
   "source": [
    "x = re.findall(r'((\\d+)[%]([?:\\s]\\w+)*)',text1)"
   ]
  },
  {
   "cell_type": "code",
   "execution_count": null,
   "metadata": {},
   "outputs": [],
   "source": [
    "x"
   ]
  },
  {
   "cell_type": "code",
   "execution_count": null,
   "metadata": {},
   "outputs": [],
   "source": [
    "# function to get a list of dicts with the percentage and the composition for it \n",
    "\n",
    "def list_of_compositions(txt):\n",
    "    txt = txt.lower()\n",
    "    #txt_nowhitespace = txt.replace(\" \", \"\")\n",
    "    lst = re.findall(r'((\\d+)[%](?:\\s\\w+)*)', txt)\n",
    "    composition_list = []\n",
    "    for tpl in lst:\n",
    "        composition = {}\n",
    "        composition['percentage'] = tpl[1]\n",
    "        composition['fiber'] = tpl[2]\n",
    "        composition_list.append(composition)\n",
    "    return composition_list"
   ]
  },
  {
   "cell_type": "code",
   "execution_count": null,
   "metadata": {},
   "outputs": [],
   "source": [
    "list_of_compositions(text1)"
   ]
  },
  {
   "cell_type": "code",
   "execution_count": null,
   "metadata": {},
   "outputs": [],
   "source": []
  },
  {
   "cell_type": "code",
   "execution_count": null,
   "metadata": {},
   "outputs": [],
   "source": []
  },
  {
   "cell_type": "code",
   "execution_count": null,
   "metadata": {},
   "outputs": [],
   "source": []
  },
  {
   "cell_type": "code",
   "execution_count": null,
   "metadata": {},
   "outputs": [],
   "source": []
  },
  {
   "cell_type": "markdown",
   "metadata": {},
   "source": [
    "## 2nd example"
   ]
  },
  {
   "cell_type": "code",
   "execution_count": null,
   "metadata": {},
   "outputs": [],
   "source": [
    "# 2nd example \n",
    "txt2 = 'Waist S@rstpilio riot ©brologiatgigaaters or Soc dry Piai:torstane Rinse and hang: Sey Immediat,J0% GOTON | GOTOR'"
   ]
  },
  {
   "cell_type": "code",
   "execution_count": null,
   "metadata": {},
   "outputs": [],
   "source": [
    "#txt2 = txt2.replace(\" \", \"\")"
   ]
  },
  {
   "cell_type": "code",
   "execution_count": null,
   "metadata": {},
   "outputs": [],
   "source": [
    "txt2"
   ]
  },
  {
   "cell_type": "code",
   "execution_count": null,
   "metadata": {},
   "outputs": [],
   "source": [
    "re.findall(r'(\\d+[%](?:\\s\\w+)*)', txt2)"
   ]
  },
  {
   "cell_type": "markdown",
   "metadata": {},
   "source": [
    "## 3rd example"
   ]
  },
  {
   "cell_type": "code",
   "execution_count": null,
   "metadata": {},
   "outputs": [],
   "source": [
    "txt3 = \"4 | .'\\n\\n| } \\\\\\n\\n. P a : . e '\\naA : : a 4\\n\\n4 e ' Be ] oe\\na. '> 2 i af J j\\nBes ASL Pe. Be % £.y €.& £45. i\\n_ ie! > wes = ' : _— yy ;  rf _ _\\n% 4 he F Fe Rd Df I F VTE\\na ah oy oo a e b, Ad b Wy a ell b ~~\\n\\n \\n\\n51%COTTON 49%POLESTER\\n\\n \\n\\nADOBE\\nMADE IN CHINA\\nRN129860 CA00108\\nMACHINE WASH COLD SEPARATELY\\nDO NOT BLEACH\\nDRIP DRY IN SHADE\\nDO NOT TUMBLE DRY\\nWARM IRON ONLY\\nDO NOT DRY CLEAN ,\\nLaver a la machine a l'eau frotde\\nseparement\\nNe pas javelliser\\nEtendre Mouille ,\\nNe pas sécher a la machine\\nRepasser au fer chaud seulement\\n_ Pas de nettoyane a sec\\n\\x0c\""
   ]
  },
  {
   "cell_type": "code",
   "execution_count": null,
   "metadata": {},
   "outputs": [],
   "source": [
    "#txt3 = txt3.replace(\" \", \"\")"
   ]
  },
  {
   "cell_type": "code",
   "execution_count": null,
   "metadata": {},
   "outputs": [],
   "source": [
    "txt3"
   ]
  },
  {
   "cell_type": "code",
   "execution_count": null,
   "metadata": {},
   "outputs": [],
   "source": [
    "z = re.findall(r'((\\d+)[%]([?:\\s]\\w+)*)',txt3)"
   ]
  },
  {
   "cell_type": "code",
   "execution_count": null,
   "metadata": {},
   "outputs": [],
   "source": [
    "z"
   ]
  },
  {
   "cell_type": "code",
   "execution_count": null,
   "metadata": {},
   "outputs": [],
   "source": [
    "works best so far : '(\\d+)[%](?:\\s*)[(\\w+)]*'"
   ]
  },
  {
   "cell_type": "code",
   "execution_count": null,
   "metadata": {},
   "outputs": [],
   "source": []
  },
  {
   "cell_type": "code",
   "execution_count": null,
   "metadata": {},
   "outputs": [],
   "source": []
  },
  {
   "cell_type": "markdown",
   "metadata": {},
   "source": [
    "## NLTK tokenize "
   ]
  },
  {
   "cell_type": "code",
   "execution_count": 19,
   "metadata": {},
   "outputs": [],
   "source": [
    "from nltk.tokenize import word_tokenize\n",
    "\n"
   ]
  },
  {
   "cell_type": "code",
   "execution_count": 20,
   "metadata": {},
   "outputs": [],
   "source": [
    "tokenize = '\\n\\nGB: Shell fabric1:100% polyester\\nrecycled\\n\\nLining:100% polyester recycled\\nPadding: 100% recycled content\\nNL: Bovenstoft: 100% polyester\\ngerecyciede\\n\\nVoering: 100% polyester serecyelade\\nVulling: 100% geracyclede inhoud\\n\\nDE: Oberstofft: 100% Polyester reeyveett\\nFutter: 100% Polyester recyceit\\nWattierung: 100% recycelt Inhalt\\n\\nFR: Etoffe extéricuret: 100%\\npolyester recycle\\n\\nDoublura: 100% polyester recycle\\nRemplissage: 100% recyclé content\\n\\n——_- —-\\n\\n \\n\\n \\n\\x0c'"
   ]
  },
  {
   "cell_type": "code",
   "execution_count": 21,
   "metadata": {},
   "outputs": [],
   "source": [
    "word_tokens = word_tokenize(tokenize)"
   ]
  },
  {
   "cell_type": "code",
   "execution_count": 22,
   "metadata": {},
   "outputs": [
    {
     "data": {
      "text/plain": [
       "['GB',\n",
       " ':',\n",
       " 'Shell',\n",
       " 'fabric1:100',\n",
       " '%',\n",
       " 'polyester',\n",
       " 'recycled',\n",
       " 'Lining:100',\n",
       " '%',\n",
       " 'polyester',\n",
       " 'recycled',\n",
       " 'Padding',\n",
       " ':',\n",
       " '100',\n",
       " '%',\n",
       " 'recycled',\n",
       " 'content',\n",
       " 'NL',\n",
       " ':',\n",
       " 'Bovenstoft',\n",
       " ':',\n",
       " '100',\n",
       " '%',\n",
       " 'polyester',\n",
       " 'gerecyciede',\n",
       " 'Voering',\n",
       " ':',\n",
       " '100',\n",
       " '%',\n",
       " 'polyester',\n",
       " 'serecyelade',\n",
       " 'Vulling',\n",
       " ':',\n",
       " '100',\n",
       " '%',\n",
       " 'geracyclede',\n",
       " 'inhoud',\n",
       " 'DE',\n",
       " ':',\n",
       " 'Oberstofft',\n",
       " ':',\n",
       " '100',\n",
       " '%',\n",
       " 'Polyester',\n",
       " 'reeyveett',\n",
       " 'Futter',\n",
       " ':',\n",
       " '100',\n",
       " '%',\n",
       " 'Polyester',\n",
       " 'recyceit',\n",
       " 'Wattierung',\n",
       " ':',\n",
       " '100',\n",
       " '%',\n",
       " 'recycelt',\n",
       " 'Inhalt',\n",
       " 'FR',\n",
       " ':',\n",
       " 'Etoffe',\n",
       " 'extéricuret',\n",
       " ':',\n",
       " '100',\n",
       " '%',\n",
       " 'polyester',\n",
       " 'recycle',\n",
       " 'Doublura',\n",
       " ':',\n",
       " '100',\n",
       " '%',\n",
       " 'polyester',\n",
       " 'recycle',\n",
       " 'Remplissage',\n",
       " ':',\n",
       " '100',\n",
       " '%',\n",
       " 'recyclé',\n",
       " 'content',\n",
       " '——_-',\n",
       " '—-']"
      ]
     },
     "execution_count": 22,
     "metadata": {},
     "output_type": "execute_result"
    }
   ],
   "source": [
    "word_tokens"
   ]
  },
  {
   "cell_type": "code",
   "execution_count": 29,
   "metadata": {},
   "outputs": [
    {
     "ename": "AttributeError",
     "evalue": "'str' object has no attribute 'punctuation'",
     "output_type": "error",
     "traceback": [
      "\u001b[0;31m---------------------------------------------------------------------------\u001b[0m",
      "\u001b[0;31mAttributeError\u001b[0m                            Traceback (most recent call last)",
      "\u001b[0;32m<ipython-input-29-c93acdd50369>\u001b[0m in \u001b[0;36m<module>\u001b[0;34m\u001b[0m\n\u001b[0;32m----> 1\u001b[0;31m \u001b[0mstring\u001b[0m\u001b[0;34m.\u001b[0m\u001b[0mpunctuation\u001b[0m\u001b[0;34m\u001b[0m\u001b[0;34m\u001b[0m\u001b[0m\n\u001b[0m",
      "\u001b[0;31mAttributeError\u001b[0m: 'str' object has no attribute 'punctuation'"
     ]
    }
   ],
   "source": [
    "string.punctuation"
   ]
  },
  {
   "cell_type": "code",
   "execution_count": 23,
   "metadata": {},
   "outputs": [],
   "source": [
    "punctuation1 = string.punctuation"
   ]
  },
  {
   "cell_type": "code",
   "execution_count": 27,
   "metadata": {},
   "outputs": [
    {
     "ename": "AttributeError",
     "evalue": "'list' object has no attribute 'replace'",
     "output_type": "error",
     "traceback": [
      "\u001b[0;31m---------------------------------------------------------------------------\u001b[0m",
      "\u001b[0;31mAttributeError\u001b[0m                            Traceback (most recent call last)",
      "\u001b[0;32m<ipython-input-27-e52dba8188e6>\u001b[0m in \u001b[0;36m<module>\u001b[0;34m\u001b[0m\n\u001b[1;32m      1\u001b[0m \u001b[0;32mfor\u001b[0m \u001b[0mstring\u001b[0m \u001b[0;32min\u001b[0m \u001b[0mword_tokens\u001b[0m\u001b[0;34m:\u001b[0m\u001b[0;34m\u001b[0m\u001b[0;34m\u001b[0m\u001b[0m\n\u001b[1;32m      2\u001b[0m     \u001b[0;32mfor\u001b[0m \u001b[0mpunctuation2\u001b[0m \u001b[0;32min\u001b[0m \u001b[0mpunctuation1\u001b[0m\u001b[0;34m:\u001b[0m\u001b[0;34m\u001b[0m\u001b[0;34m\u001b[0m\u001b[0m\n\u001b[0;32m----> 3\u001b[0;31m         \u001b[0mtext\u001b[0m \u001b[0;34m=\u001b[0m \u001b[0mword_tokens\u001b[0m\u001b[0;34m.\u001b[0m\u001b[0mreplace\u001b[0m\u001b[0;34m(\u001b[0m\u001b[0mpunctuation2\u001b[0m\u001b[0;34m,\u001b[0m \u001b[0;34m''\u001b[0m\u001b[0;34m)\u001b[0m\u001b[0;34m\u001b[0m\u001b[0;34m\u001b[0m\u001b[0m\n\u001b[0m",
      "\u001b[0;31mAttributeError\u001b[0m: 'list' object has no attribute 'replace'"
     ]
    }
   ],
   "source": [
    "for string in word_tokens:\n",
    "    for punctuation2 in punctuation1:\n",
    "        text = word_tokens.replace(punctuation2, '') \n"
   ]
  },
  {
   "cell_type": "code",
   "execution_count": 28,
   "metadata": {},
   "outputs": [
    {
     "data": {
      "text/plain": [
       "['GB',\n",
       " 'Shell',\n",
       " 'fabric1',\n",
       " '100',\n",
       " 'polyester',\n",
       " 'recycled',\n",
       " 'Lining',\n",
       " '100',\n",
       " 'polyester',\n",
       " 'recycled',\n",
       " 'Padding',\n",
       " '100',\n",
       " 'recycled',\n",
       " 'content',\n",
       " 'NL',\n",
       " 'Bovenstoft',\n",
       " '100',\n",
       " 'polyester',\n",
       " 'gerecyciede',\n",
       " 'Voering',\n",
       " '100',\n",
       " 'polyester',\n",
       " 'serecyelade',\n",
       " 'Vulling',\n",
       " '100',\n",
       " 'geracyclede',\n",
       " 'inhoud',\n",
       " 'DE',\n",
       " 'Oberstofft',\n",
       " '100',\n",
       " 'Polyester',\n",
       " 'reeyveett',\n",
       " 'Futter',\n",
       " '100',\n",
       " 'Polyester',\n",
       " 'recyceit',\n",
       " 'Wattierung',\n",
       " '100',\n",
       " 'recycelt',\n",
       " 'Inhalt',\n",
       " 'FR',\n",
       " 'Etoffe',\n",
       " 'extéricuret',\n",
       " '100',\n",
       " 'polyester',\n",
       " 'recycle',\n",
       " 'Doublura',\n",
       " '100',\n",
       " 'polyester',\n",
       " 'recycle',\n",
       " 'Remplissage',\n",
       " '100',\n",
       " 'recyclé',\n",
       " 'content',\n",
       " '_']"
      ]
     },
     "execution_count": 28,
     "metadata": {},
     "output_type": "execute_result"
    }
   ],
   "source": [
    "from nltk.tokenize import RegexpTokenizer\n",
    "tokenizer = RegexpTokenizer(r'\\w+')\n",
    "tokenizer.tokenize(tokenize)"
   ]
  },
  {
   "cell_type": "code",
   "execution_count": null,
   "metadata": {},
   "outputs": [],
   "source": []
  }
 ],
 "metadata": {
  "kernelspec": {
   "display_name": "Python 3",
   "language": "python",
   "name": "python3"
  },
  "language_info": {
   "codemirror_mode": {
    "name": "ipython",
    "version": 3
   },
   "file_extension": ".py",
   "mimetype": "text/x-python",
   "name": "python",
   "nbconvert_exporter": "python",
   "pygments_lexer": "ipython3",
   "version": "3.7.7"
  },
  "toc": {
   "base_numbering": 1,
   "nav_menu": {},
   "number_sections": true,
   "sideBar": true,
   "skip_h1_title": false,
   "title_cell": "Table of Contents",
   "title_sidebar": "Contents",
   "toc_cell": false,
   "toc_position": {},
   "toc_section_display": true,
   "toc_window_display": false
  }
 },
 "nbformat": 4,
 "nbformat_minor": 4
}
