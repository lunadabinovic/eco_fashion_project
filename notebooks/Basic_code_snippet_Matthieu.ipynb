{
 "cells": [
  {
   "cell_type": "code",
   "execution_count": 10,
   "metadata": {},
   "outputs": [],
   "source": [
    "import cv2\n",
    "import numpy as np\n",
    "import pytesseract\n",
    "image = cv2.imread('../raw_data/label_composition_images/IMG_1388.JPG')"
   ]
  },
  {
   "cell_type": "code",
   "execution_count": 11,
   "metadata": {},
   "outputs": [],
   "source": [
    "def preprocessing_image(image):\n",
    "    #image = cv2.imread('../raw_data/label_composition_images/IMG_1378.JPG')\n",
    "    grayscale = cv2.cvtColor(image, cv2.COLOR_BGR2GRAY)\n",
    "    noise = cv2.medianBlur(grayscale,5)\n",
    "    #threshold = cv2.threshold(noise, 0, 255, cv2.THRESH_BINARY + cv2.THRESH_OTSU)[1]\n",
    "    #threshold doesn't really work\n",
    "\n",
    "    #dilation\n",
    "    kernel = np.ones((5,5),np.uint8)\n",
    "    dilate = cv2.dilate(noise, kernel, iterations = 1)\n",
    "\n",
    "    #erosion\n",
    "\n",
    "    kernel = np.ones((5,5),np.uint8)\n",
    "    erode= cv2.erode(dilate, kernel, iterations = 1)\n",
    "\n",
    "    #opening - erosion followed by dilation\n",
    "    #definition opening(image):\n",
    "    #kernel = np.ones((5,5),np.uint8)\n",
    "    #return cv2.morphologyEx(image, cv2.MORPH_OPEN, kernel)\n",
    "\n",
    "    #canny edge detection\n",
    "\n",
    "    #canny = cv2.Canny(threshold, 100, 200)\n",
    "\n",
    "    #skew correction\n",
    "    #definition deskew(image):\n",
    "    coords = np.column_stack(np.where(erode > 0))\n",
    "    angle = cv2.minAreaRect(coords)[-1]\n",
    "    if angle < -45:\n",
    "        angle = -(90 + angle)\n",
    "    else:\n",
    "        angle = -angle\n",
    "    (h, w) = erode.shape[:2]\n",
    "    center = (w // 2, h // 2)\n",
    "    M = cv2.getRotationMatrix2D(center, angle, 1.0)\n",
    "    deskew = cv2.warpAffine(erode, M, (w, h), flags=cv2.INTER_CUBIC, borderMode=cv2.BORDER_REPLICATE)\n",
    "\n",
    "\n",
    "    #template matching\n",
    "    #definition match_template(image, template):\n",
    "    #return cv2.matchTemplate(image, template, cv2.TM_CCOEFF_NORMED)\n",
    "\n",
    "    #definition sharp(image):\n",
    "    #sharp= cv2.bilateralFilter(deskew,9,75,75)\n",
    "    return deskew"
   ]
  },
  {
   "cell_type": "code",
   "execution_count": 12,
   "metadata": {},
   "outputs": [],
   "source": [
    "def image_to_string(image):\n",
    "    \n",
    "    preprocessed = preprocessing_image(image)\n",
    "   \n",
    "        #img = Image.fromarray(preprocessed, 'RGB')\n",
    "    results = pytesseract.image_to_string(preprocessed)\n",
    "    return results"
   ]
  },
  {
   "cell_type": "code",
   "execution_count": 13,
   "metadata": {},
   "outputs": [
    {
     "data": {
      "text/plain": [
       "\"Aw'1g 05/19\\n\\n36% Lana / Wool / Wolle / Laine /\\nLana/ Ls\\n\\n35% Acrilica f Acrylic | Polyacrl /\\nActylique / Actilicg / Aerflico\\n\\n18% Alpaca / Alpaca / Alpaka /\\nAlpaga / Alnaca / Alpaca\\n\\n13% Poliamida / Nylon / Polyamid /\\nFolyamide / Poliammidica / Polyamide\\n\\n1% Elastano / Elastane / Elasthan/\\nElasthanne / Elastan / Elastano\\n\\nWAR ARE\\n\\nLAVAR AMANO - NO DEJAR OIC\\nNO USAR LEJIA BN REM\\n\\nNO UTILIZAR SECADORA\\n\\nPLANCHAR A TEMPERATURA BAJA\\n\\nMAX. 141°C\\n\\nNO LIMPIAR EN SECO\\n\\nLAVAR OEL REVES\\n\\nPLANCHAR DEL REVES\\n\\nSECAR =N PLANO\\n\\x0c\""
      ]
     },
     "execution_count": 13,
     "metadata": {},
     "output_type": "execute_result"
    }
   ],
   "source": [
    "image_to_string(image)"
   ]
  },
  {
   "cell_type": "code",
   "execution_count": null,
   "metadata": {},
   "outputs": [],
   "source": []
  }
 ],
 "metadata": {
  "kernelspec": {
   "display_name": "Python 3",
   "language": "python",
   "name": "python3"
  },
  "language_info": {
   "codemirror_mode": {
    "name": "ipython",
    "version": 3
   },
   "file_extension": ".py",
   "mimetype": "text/x-python",
   "name": "python",
   "nbconvert_exporter": "python",
   "pygments_lexer": "ipython3",
   "version": "3.7.7"
  },
  "toc": {
   "base_numbering": 1,
   "nav_menu": {},
   "number_sections": true,
   "sideBar": true,
   "skip_h1_title": false,
   "title_cell": "Table of Contents",
   "title_sidebar": "Contents",
   "toc_cell": false,
   "toc_position": {},
   "toc_section_display": true,
   "toc_window_display": false
  }
 },
 "nbformat": 4,
 "nbformat_minor": 4
}
