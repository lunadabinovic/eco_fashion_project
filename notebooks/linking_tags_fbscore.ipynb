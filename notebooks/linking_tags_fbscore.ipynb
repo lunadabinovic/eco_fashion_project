{
 "cells": [
  {
   "cell_type": "code",
   "execution_count": 1,
   "metadata": {},
   "outputs": [],
   "source": [
    "import pytesseract\n",
    "import pandas as pd\n",
    "import numpy as np\n",
    "from PIL import Image\n",
    "import cv2\n",
    "import pandas as pd"
   ]
  },
  {
   "cell_type": "code",
   "execution_count": 2,
   "metadata": {},
   "outputs": [],
   "source": [
    "def preprocessing_image(image):\n",
    "    #image = cv2.imread('../raw_data/label_composition_images/IMG_1378.JPG')\n",
    "    grayscale = cv2.cvtColor(image, cv2.COLOR_BGR2GRAY)\n",
    "    noise = cv2.medianBlur(grayscale,5)\n",
    "    #threshold = cv2.threshold(noise, 0, 255, cv2.THRESH_BINARY + cv2.THRESH_OTSU)[1]\n",
    "    #threshold doesn't really work\n",
    "\n",
    "    #dilation\n",
    "    kernel = np.ones((5,5),np.uint8)\n",
    "    dilate = cv2.dilate(noise, kernel, iterations = 1)\n",
    "\n",
    "    #erosion\n",
    "\n",
    "    kernel = np.ones((5,5),np.uint8)\n",
    "    erode= cv2.erode(dilate, kernel, iterations = 1)\n",
    "\n",
    "    #opening - erosion followed by dilation\n",
    "    #definition opening(image):\n",
    "    #kernel = np.ones((5,5),np.uint8)\n",
    "    #return cv2.morphologyEx(image, cv2.MORPH_OPEN, kernel)\n",
    "\n",
    "    #canny edge detection\n",
    "\n",
    "    #canny = cv2.Canny(threshold, 100, 200)\n",
    "\n",
    "    #skew correction\n",
    "    #definition deskew(image):\n",
    "    coords = np.column_stack(np.where(erode > 0))\n",
    "    angle = cv2.minAreaRect(coords)[-1]\n",
    "    if angle < -45:\n",
    "        angle = -(90 + angle)\n",
    "    else:\n",
    "        angle = -angle\n",
    "    (h, w) = erode.shape[:2]\n",
    "    center = (w // 2, h // 2)\n",
    "    M = cv2.getRotationMatrix2D(center, angle, 1.0)\n",
    "    deskew = cv2.warpAffine(erode, M, (w, h), flags=cv2.INTER_CUBIC, borderMode=cv2.BORDER_REPLICATE)\n",
    "\n",
    "\n",
    "    #template matching\n",
    "    #definition match_template(image, template):\n",
    "    #return cv2.matchTemplate(image, template, cv2.TM_CCOEFF_NORMED)\n",
    "\n",
    "    #definition sharp(image):\n",
    "    #sharp= cv2.bilateralFilter(deskew,9,75,75)\n",
    "    return deskew"
   ]
  },
  {
   "cell_type": "code",
   "execution_count": 3,
   "metadata": {},
   "outputs": [],
   "source": [
    "def image_to_string(image):\n",
    "    \n",
    "    preprocessed = preprocessing_image(image)\n",
    "   \n",
    "        #img = Image.fromarray(preprocessed, 'RGB')\n",
    "    results = pytesseract.image_to_string(preprocessed)\n",
    "    return results"
   ]
  },
  {
   "cell_type": "code",
   "execution_count": 4,
   "metadata": {},
   "outputs": [],
   "source": [
    "image = cv2.imread('../raw_data/label_composition_images/IMG_1378.JPG')"
   ]
  },
  {
   "cell_type": "code",
   "execution_count": 5,
   "metadata": {},
   "outputs": [
    {
     "data": {
      "text/plain": [
       "'  \\n\\nGB: Shell fabric1:100% polyester\\nrecycled\\n\\nLining: 100% polyester recycled\\nPadding: 100% recycled content\\nNL: Bovenstoft: 100% polyester\\ngerecyciede\\n\\nVoering: 100% polyester serecyelade\\nVulling: 100% geracyclede inhoud\\n\\nDE: Oberstofft: 100% Polyester reeyveett\\nFutter: 100% Polyester recyceit\\nWattierung: 100% recycelt Inhalt\\n\\nFR: Etoffe extéricuret: 100%\\npolyester recycle\\n\\nDoublura: 100% polyester recycle\\nRemplissage: 100% recyclé content\\n\\n——_- —-\\n\\n \\n\\n \\n\\x0c'"
      ]
     },
     "execution_count": 5,
     "metadata": {},
     "output_type": "execute_result"
    }
   ],
   "source": [
    "ocr_result = image_to_string(image)\n",
    "ocr_result"
   ]
  },
  {
   "cell_type": "code",
   "execution_count": 6,
   "metadata": {},
   "outputs": [
    {
     "data": {
      "text/plain": [
       "['  ',\n",
       " '',\n",
       " 'GB: Shell fabric1:100% polyester',\n",
       " 'recycled',\n",
       " '',\n",
       " 'Lining: 100% polyester recycled',\n",
       " 'Padding: 100% recycled content',\n",
       " 'NL: Bovenstoft: 100% polyester',\n",
       " 'gerecyciede',\n",
       " '',\n",
       " 'Voering: 100% polyester serecyelade',\n",
       " 'Vulling: 100% geracyclede inhoud',\n",
       " '',\n",
       " 'DE: Oberstofft: 100% Polyester reeyveett',\n",
       " 'Futter: 100% Polyester recyceit',\n",
       " 'Wattierung: 100% recycelt Inhalt',\n",
       " '',\n",
       " 'FR: Etoffe extéricuret: 100%',\n",
       " 'polyester recycle',\n",
       " '',\n",
       " 'Doublura: 100% polyester recycle',\n",
       " 'Remplissage: 100% recyclé content',\n",
       " '',\n",
       " '——_- —-',\n",
       " '',\n",
       " ' ',\n",
       " '',\n",
       " ' ',\n",
       " '']"
      ]
     },
     "execution_count": 6,
     "metadata": {},
     "output_type": "execute_result"
    }
   ],
   "source": [
    "ocr_splitted = ocr_result.splitlines()\n",
    "ocr_splitted"
   ]
  },
  {
   "cell_type": "code",
   "execution_count": 7,
   "metadata": {},
   "outputs": [
    {
     "data": {
      "text/plain": [
       "['mechanically recycled nylon',\n",
       " 'mechanically recycled polyester',\n",
       " 'recycled nylon',\n",
       " 'nylon recycled',\n",
       " 'recycled polyester',\n",
       " 'polyester recycled',\n",
       " 'organic linen',\n",
       " 'linen organic',\n",
       " 'organic hemp',\n",
       " 'hemp organic',\n",
       " 'recycled cotton',\n",
       " 'cotton recycled',\n",
       " 'recycled wool',\n",
       " 'wool recycled',\n",
       " 'chemically recycled nylon',\n",
       " 'chemically recycled polyester',\n",
       " 'crailar',\n",
       " 'in conversion cotton',\n",
       " 'cotton in conversion',\n",
       " 'monocel',\n",
       " 'organic cotton',\n",
       " 'cotton organic',\n",
       " 'tencel',\n",
       " 'linen',\n",
       " 'hemp',\n",
       " 'pla',\n",
       " 'ramie',\n",
       " 'modal lenzing viscose',\n",
       " 'modal',\n",
       " 'lenzing',\n",
       " 'poly-acrylic',\n",
       " 'polyester',\n",
       " 'bamboo viscose',\n",
       " 'cotton',\n",
       " 'viscose',\n",
       " 'rayon',\n",
       " 'spandex',\n",
       " 'elastane',\n",
       " 'nylon',\n",
       " 'wool',\n",
       " 'acetate',\n",
       " 'alpaca',\n",
       " 'cashmere',\n",
       " 'leather',\n",
       " 'mohair',\n",
       " 'bamboo',\n",
       " 'organic wool',\n",
       " 'wool organic',\n",
       " 'silk',\n",
       " 'banana',\n",
       " 'cork',\n",
       " 'jute',\n",
       " 'nettle',\n",
       " 'sisal',\n",
       " 'spanish broom',\n",
       " 'abaca',\n",
       " 'crab shell',\n",
       " 'lyocell',\n",
       " 'coconut choir',\n",
       " 'kapok',\n",
       " 'ramie',\n",
       " 'feathers',\n",
       " 'feather',\n",
       " 'orange fibre',\n",
       " 'apple leather',\n",
       " 'grape leather',\n",
       " 'pineapple leather',\n",
       " 'soy bean',\n",
       " 'rubber',\n",
       " 'angora',\n",
       " 'casein',\n",
       " 'elastothane',\n",
       " 'polyamide',\n",
       " 'polyethylene',\n",
       " 'synthetic leather',\n",
       " 'leather synthetic',\n",
       " 'polytrimethylene',\n",
       " 'teraphtalate']"
      ]
     },
     "execution_count": 7,
     "metadata": {},
     "output_type": "execute_result"
    }
   ],
   "source": [
    "fb3_keys = pd.read_csv('../eco_fashion_project/data/fibre_cleanedx3.csv')\n",
    "fibres_list = fb3_keys['Material'].tolist()\n",
    "fibres_list"
   ]
  },
  {
   "cell_type": "code",
   "execution_count": 8,
   "metadata": {},
   "outputs": [
    {
     "data": {
      "text/plain": [
       "[['polyester recycled', ['Lining: 100% polyester recycled']],\n",
       " ['polyester',\n",
       "  ['GB: Shell fabric1:100% polyester',\n",
       "   'Lining: 100% polyester recycled',\n",
       "   'NL: Bovenstoft: 100% polyester',\n",
       "   'Voering: 100% polyester serecyelade',\n",
       "   'polyester recycle',\n",
       "   'Doublura: 100% polyester recycle']]]"
      ]
     },
     "execution_count": 8,
     "metadata": {},
     "output_type": "execute_result"
    }
   ],
   "source": [
    "all_matches = []\n",
    "for fibre in fibres_list:\n",
    "    matching = [s for s in ocr_splitted if fibre in s]\n",
    "    if matching:\n",
    "        matched = [fibre, matching]\n",
    "        all_matches.append(matched)\n",
    "all_matches"
   ]
  },
  {
   "cell_type": "code",
   "execution_count": 9,
   "metadata": {},
   "outputs": [
    {
     "data": {
      "text/plain": [
       "0    polyester recycled\n",
       "1             polyester\n",
       "Name: 0, dtype: object"
      ]
     },
     "execution_count": 9,
     "metadata": {},
     "output_type": "execute_result"
    }
   ],
   "source": [
    "all_matches_df = pd.DataFrame(all_matches)\n",
    "all_matches_df[0]"
   ]
  },
  {
   "cell_type": "code",
   "execution_count": 10,
   "metadata": {},
   "outputs": [
    {
     "data": {
      "text/plain": [
       "'polyester recycled'"
      ]
     },
     "execution_count": 10,
     "metadata": {},
     "output_type": "execute_result"
    }
   ],
   "source": [
    "max(all_matches_df[0], key=len)"
   ]
  },
  {
   "cell_type": "code",
   "execution_count": 11,
   "metadata": {},
   "outputs": [],
   "source": [
    "multi_fb_list = ['nylon', 'polyester', 'linen', 'hemp', 'cotton', 'wool', 'viscose', 'leather']"
   ]
  },
  {
   "cell_type": "code",
   "execution_count": 16,
   "metadata": {},
   "outputs": [
    {
     "data": {
      "text/plain": [
       "pandas.core.series.Series"
      ]
     },
     "execution_count": 16,
     "metadata": {},
     "output_type": "execute_result"
    }
   ],
   "source": [
    "type(all_matches_df[0])"
   ]
  },
  {
   "cell_type": "code",
   "execution_count": 17,
   "metadata": {},
   "outputs": [
    {
     "data": {
      "text/plain": [
       "0    False\n",
       "1     True\n",
       "Name: 0, dtype: bool"
      ]
     },
     "execution_count": 17,
     "metadata": {},
     "output_type": "execute_result"
    }
   ],
   "source": [
    "all_matches_df[0].isin(['polyester'])"
   ]
  },
  {
   "cell_type": "code",
   "execution_count": 18,
   "metadata": {},
   "outputs": [
    {
     "data": {
      "text/plain": [
       "['mechanically recycled polyester',\n",
       " 'recycled polyester',\n",
       " 'polyester recycled',\n",
       " 'chemically recycled polyester',\n",
       " 'polyester']"
      ]
     },
     "execution_count": 18,
     "metadata": {},
     "output_type": "execute_result"
    }
   ],
   "source": [
    "#for fibre in multi_fb_list:\n",
    "#    multi_matching = [s for s in all_matches_df[0] if fibre in s]\n",
    "\n",
    "polyester_group = [s for s in fibres_list if \"polyester\" in s]\n",
    "polyester_group"
   ]
  },
  {
   "cell_type": "code",
   "execution_count": 23,
   "metadata": {},
   "outputs": [
    {
     "data": {
      "text/plain": [
       "0    True\n",
       "1    True\n",
       "Name: 0, dtype: bool"
      ]
     },
     "execution_count": 23,
     "metadata": {},
     "output_type": "execute_result"
    }
   ],
   "source": [
    "all_matches_df[0].isin(polyester_group)"
   ]
  },
  {
   "cell_type": "code",
   "execution_count": 25,
   "metadata": {},
   "outputs": [
    {
     "data": {
      "text/html": [
       "<div>\n",
       "<style scoped>\n",
       "    .dataframe tbody tr th:only-of-type {\n",
       "        vertical-align: middle;\n",
       "    }\n",
       "\n",
       "    .dataframe tbody tr th {\n",
       "        vertical-align: top;\n",
       "    }\n",
       "\n",
       "    .dataframe thead th {\n",
       "        text-align: right;\n",
       "    }\n",
       "</style>\n",
       "<table border=\"1\" class=\"dataframe\">\n",
       "  <thead>\n",
       "    <tr style=\"text-align: right;\">\n",
       "      <th></th>\n",
       "      <th>0</th>\n",
       "      <th>1</th>\n",
       "    </tr>\n",
       "  </thead>\n",
       "  <tbody>\n",
       "    <tr>\n",
       "      <th>0</th>\n",
       "      <td>polyester recycled</td>\n",
       "      <td>[Lining: 100% polyester recycled]</td>\n",
       "    </tr>\n",
       "    <tr>\n",
       "      <th>1</th>\n",
       "      <td>polyester</td>\n",
       "      <td>[GB: Shell fabric1:100% polyester, Lining: 100...</td>\n",
       "    </tr>\n",
       "  </tbody>\n",
       "</table>\n",
       "</div>"
      ],
      "text/plain": [
       "                    0                                                  1\n",
       "0  polyester recycled                  [Lining: 100% polyester recycled]\n",
       "1           polyester  [GB: Shell fabric1:100% polyester, Lining: 100..."
      ]
     },
     "execution_count": 25,
     "metadata": {},
     "output_type": "execute_result"
    }
   ],
   "source": [
    "all_matches_df[all_matches_df[0].isin(polyester_group)]"
   ]
  },
  {
   "cell_type": "code",
   "execution_count": 29,
   "metadata": {},
   "outputs": [
    {
     "data": {
      "text/html": [
       "<div>\n",
       "<style scoped>\n",
       "    .dataframe tbody tr th:only-of-type {\n",
       "        vertical-align: middle;\n",
       "    }\n",
       "\n",
       "    .dataframe tbody tr th {\n",
       "        vertical-align: top;\n",
       "    }\n",
       "\n",
       "    .dataframe thead th {\n",
       "        text-align: right;\n",
       "    }\n",
       "</style>\n",
       "<table border=\"1\" class=\"dataframe\">\n",
       "  <thead>\n",
       "    <tr style=\"text-align: right;\">\n",
       "      <th></th>\n",
       "      <th>1</th>\n",
       "    </tr>\n",
       "    <tr>\n",
       "      <th>0</th>\n",
       "      <th></th>\n",
       "    </tr>\n",
       "  </thead>\n",
       "  <tbody>\n",
       "    <tr>\n",
       "      <th>polyester recycled</th>\n",
       "      <td>[Lining: 100% polyester recycled]</td>\n",
       "    </tr>\n",
       "    <tr>\n",
       "      <th>polyester</th>\n",
       "      <td>[GB: Shell fabric1:100% polyester, Lining: 100...</td>\n",
       "    </tr>\n",
       "  </tbody>\n",
       "</table>\n",
       "</div>"
      ],
      "text/plain": [
       "                                                                    1\n",
       "0                                                                    \n",
       "polyester recycled                  [Lining: 100% polyester recycled]\n",
       "polyester           [GB: Shell fabric1:100% polyester, Lining: 100..."
      ]
     },
     "execution_count": 29,
     "metadata": {},
     "output_type": "execute_result"
    }
   ],
   "source": [
    "ind_all_matches_df = all_matches_df.set_index(0)\n",
    "ind_all_matches_df"
   ]
  },
  {
   "cell_type": "code",
   "execution_count": 57,
   "metadata": {
    "scrolled": true
   },
   "outputs": [
    {
     "data": {
      "text/plain": [
       "['Lining: 100% polyester recycled']"
      ]
     },
     "execution_count": 57,
     "metadata": {},
     "output_type": "execute_result"
    }
   ],
   "source": [
    "ind_all_matches_df.loc['polyester recycled'][1]"
   ]
  },
  {
   "cell_type": "code",
   "execution_count": 58,
   "metadata": {},
   "outputs": [
    {
     "data": {
      "text/plain": [
       "['Lining: 100% polyester recycled']"
      ]
     },
     "execution_count": 58,
     "metadata": {},
     "output_type": "execute_result"
    }
   ],
   "source": [
    "ind_all_matches_df.loc[max(all_matches_df[0][all_matches_df[0].isin(polyester_group)], key=len)][1]"
   ]
  },
  {
   "cell_type": "code",
   "execution_count": 59,
   "metadata": {},
   "outputs": [
    {
     "data": {
      "text/plain": [
       "list"
      ]
     },
     "execution_count": 59,
     "metadata": {},
     "output_type": "execute_result"
    }
   ],
   "source": [
    "int_tags = ind_all_matches_df.loc[max(all_matches_df[0][all_matches_df[0].isin(polyester_group)], key=len)][1]\n",
    "type(int_tags)"
   ]
  },
  {
   "cell_type": "code",
   "execution_count": 51,
   "metadata": {},
   "outputs": [
    {
     "data": {
      "text/plain": [
       "'100%'"
      ]
     },
     "execution_count": 51,
     "metadata": {},
     "output_type": "execute_result"
    }
   ],
   "source": [
    "import re\n",
    "percent = re.search(r'((\\d+)[%])','Lining: 100% polyester recycled')\n",
    "percent.group(0)"
   ]
  },
  {
   "cell_type": "code",
   "execution_count": 60,
   "metadata": {},
   "outputs": [
    {
     "data": {
      "text/plain": [
       "'100%'"
      ]
     },
     "execution_count": 60,
     "metadata": {},
     "output_type": "execute_result"
    }
   ],
   "source": [
    "percentage = re.search(r'((\\d+)[%])',int_tags[0])\n",
    "percentage.group(0)"
   ]
  },
  {
   "cell_type": "code",
   "execution_count": 61,
   "metadata": {},
   "outputs": [
    {
     "name": "stdout",
     "output_type": "stream",
     "text": [
      "['mechanically recycled nylon', 'recycled nylon', 'nylon recycled', 'chemically recycled nylon', 'nylon']\n",
      "['organic linen', 'linen organic', 'linen']\n",
      "['organic hemp', 'hemp organic', 'hemp']\n",
      "['recycled cotton', 'cotton recycled', 'in conversion cotton', 'cotton in conversion', 'organic cotton', 'cotton organic', 'cotton']\n",
      "['recycled wool', 'wool recycled', 'wool', 'organic wool', 'wool organic']\n",
      "['modal lenzing viscose', 'bamboo viscose', 'viscose']\n",
      "['leather', 'apple leather', 'grape leather', 'pineapple leather', 'synthetic leather', 'leather synthetic']\n"
     ]
    }
   ],
   "source": [
    "nylon_group = [s for s in fibres_list if \"nylon\" in s]\n",
    "print(nylon_group)\n",
    "linen_group = [s for s in fibres_list if \"linen\" in s]\n",
    "print(linen_group)\n",
    "hemp_group = [s for s in fibres_list if \"hemp\" in s]\n",
    "print(hemp_group)\n",
    "cotton_group = [s for s in fibres_list if \"cotton\" in s]\n",
    "print(cotton_group)\n",
    "wool_group = [s for s in fibres_list if \"wool\" in s]\n",
    "print(wool_group)\n",
    "viscose_group = [s for s in fibres_list if \"viscose\" in s]\n",
    "print(viscose_group)\n",
    "leather_group = [s for s in fibres_list if \"leather\" in s]\n",
    "print(leather_group)"
   ]
  },
  {
   "cell_type": "code",
   "execution_count": 63,
   "metadata": {},
   "outputs": [],
   "source": [
    "multi_fb_group_list = [nylon_group, polyester_group, linen_group, hemp_group, cotton_group, wool_group, viscose_group, leather_group]"
   ]
  },
  {
   "cell_type": "code",
   "execution_count": 79,
   "metadata": {},
   "outputs": [
    {
     "name": "stdout",
     "output_type": "stream",
     "text": [
      "0    polyester recycled\n",
      "1             polyester\n",
      "Name: 0, dtype: object\n",
      "['mechanically recycled nylon', 'recycled nylon', 'nylon recycled', 'chemically recycled nylon', 'nylon']\n",
      "0    False\n",
      "1    False\n",
      "Name: 0, dtype: bool\n",
      "nothing will be done\n"
     ]
    }
   ],
   "source": [
    "#for group in multi_fb_group_list:\n",
    "print(all_matches_df[0])\n",
    "print(nylon_group)\n",
    "print(all_matches_df[0].isin(['mechanically recycled nylon', 'recycled nylon', 'nylon recycled', 'chemically recycled nylon', 'nylon']))\n",
    "if all_matches_df[0].isin(nylon_group).any() == False:\n",
    "    print(\"nothing will be done\")\n",
    "else:\n",
    "    print(\"in nylon group\")"
   ]
  },
  {
   "cell_type": "code",
   "execution_count": 81,
   "metadata": {},
   "outputs": [
    {
     "name": "stdout",
     "output_type": "stream",
     "text": [
      "fiber: polyester recycled\n",
      "interesting tag lines: ['Lining: 100% polyester recycled']\n",
      "percentage: 100%\n"
     ]
    }
   ],
   "source": [
    "if all_matches_df[0].isin(polyester_group).any() == True:\n",
    "    fb_key = max(all_matches_df[0][all_matches_df[0].isin(polyester_group)], key=len)\n",
    "    print(f\"fiber: {fb_key}\")\n",
    "    int_tag_lines = ind_all_matches_df.loc[fb_key][1]\n",
    "    print(f\"interesting tag lines: {int_tag_lines}\")\n",
    "    pt = re.search(r'((\\d+)[%])',int_tag_lines[0])\n",
    "    pct = pt.group(0)\n",
    "    print(f\"percentage: {pct}\")"
   ]
  },
  {
   "cell_type": "code",
   "execution_count": 82,
   "metadata": {},
   "outputs": [],
   "source": [
    "if all_matches_df[0].isin(nylon_group).any() == True:\n",
    "    fb_key = max(all_matches_df[0][all_matches_df[0].isin(nylon_group)], key=len)\n",
    "    print(f\"fiber: {fb_key}\")\n",
    "    int_tag_lines = ind_all_matches_df.loc[fb_key][1]\n",
    "    print(f\"interesting tag lines: {int_tag_lines}\")\n",
    "    pt = re.search(r'((\\d+)[%])',int_tag_lines[0])\n",
    "    pct = pt.group(0)\n",
    "    print(f\"percentage: {pct}\")"
   ]
  },
  {
   "cell_type": "code",
   "execution_count": 88,
   "metadata": {},
   "outputs": [
    {
     "name": "stdout",
     "output_type": "stream",
     "text": [
      "fiber: polyester recycled\n",
      "interesting tag lines: ['Lining: 100% polyester recycled']\n",
      "percentage: 100%\n"
     ]
    },
    {
     "data": {
      "text/html": [
       "<div>\n",
       "<style scoped>\n",
       "    .dataframe tbody tr th:only-of-type {\n",
       "        vertical-align: middle;\n",
       "    }\n",
       "\n",
       "    .dataframe tbody tr th {\n",
       "        vertical-align: top;\n",
       "    }\n",
       "\n",
       "    .dataframe thead th {\n",
       "        text-align: right;\n",
       "    }\n",
       "</style>\n",
       "<table border=\"1\" class=\"dataframe\">\n",
       "  <thead>\n",
       "    <tr style=\"text-align: right;\">\n",
       "      <th></th>\n",
       "      <th>fiber</th>\n",
       "      <th>percentage</th>\n",
       "    </tr>\n",
       "  </thead>\n",
       "  <tbody>\n",
       "    <tr>\n",
       "      <th>0</th>\n",
       "      <td>polyester recycled</td>\n",
       "      <td>100%</td>\n",
       "    </tr>\n",
       "  </tbody>\n",
       "</table>\n",
       "</div>"
      ],
      "text/plain": [
       "                fiber percentage\n",
       "0  polyester recycled       100%"
      ]
     },
     "execution_count": 88,
     "metadata": {},
     "output_type": "execute_result"
    }
   ],
   "source": [
    "tag_info = pd.DataFrame(columns = [\"fiber\", \"percentage\"])\n",
    "\n",
    "for group in multi_fb_group_list:\n",
    "    if all_matches_df[0].isin(group).any() == True:\n",
    "        fb_key = max(all_matches_df[0][all_matches_df[0].isin(group)], key=len)\n",
    "        print(f\"fiber: {fb_key}\")\n",
    "        int_tag_lines = ind_all_matches_df.loc[fb_key][1]\n",
    "        print(f\"interesting tag lines: {int_tag_lines}\")\n",
    "        pt = re.search(r'((\\d+)[%])',int_tag_lines[0])\n",
    "        pct = pt.group(0)\n",
    "        print(f\"percentage: {pct}\")\n",
    "        tag_info.loc[len(tag_info)] = [fb_key,pct]\n",
    "        #tag_info.append({'fiber': fb_key, 'percentage': pct}, ignore_index=True)\n",
    "\n",
    "tag_info"
   ]
  },
  {
   "cell_type": "code",
   "execution_count": 97,
   "metadata": {},
   "outputs": [
    {
     "data": {
      "text/plain": [
       "['crailar',\n",
       " 'monocel',\n",
       " 'tencel',\n",
       " 'pla',\n",
       " 'ramie',\n",
       " 'modal',\n",
       " 'lenzing',\n",
       " 'poly-acrylic',\n",
       " 'rayon',\n",
       " 'spandex',\n",
       " 'elastane',\n",
       " 'acetate',\n",
       " 'alpaca',\n",
       " 'cashmere',\n",
       " 'mohair',\n",
       " 'bamboo',\n",
       " 'silk',\n",
       " 'banana',\n",
       " 'cork',\n",
       " 'jute',\n",
       " 'nettle',\n",
       " 'sisal',\n",
       " 'spanish broom',\n",
       " 'abaca',\n",
       " 'crab shell',\n",
       " 'lyocell',\n",
       " 'coconut choir',\n",
       " 'kapok',\n",
       " 'ramie',\n",
       " 'feathers',\n",
       " 'feather',\n",
       " 'orange fibre',\n",
       " 'soy bean',\n",
       " 'rubber',\n",
       " 'angora',\n",
       " 'casein',\n",
       " 'elastothane',\n",
       " 'polyamide',\n",
       " 'polyethylene',\n",
       " 'polytrimethylene',\n",
       " 'teraphtalate']"
      ]
     },
     "execution_count": 97,
     "metadata": {},
     "output_type": "execute_result"
    }
   ],
   "source": [
    "rest_group = fibres_list\n",
    "for group in multi_fb_group_list:\n",
    "    rest_group = [s for s in rest_group if s not in group]\n",
    "\n",
    "rest_group"
   ]
  },
  {
   "cell_type": "code",
   "execution_count": 98,
   "metadata": {},
   "outputs": [
    {
     "data": {
      "text/html": [
       "<div>\n",
       "<style scoped>\n",
       "    .dataframe tbody tr th:only-of-type {\n",
       "        vertical-align: middle;\n",
       "    }\n",
       "\n",
       "    .dataframe tbody tr th {\n",
       "        vertical-align: top;\n",
       "    }\n",
       "\n",
       "    .dataframe thead th {\n",
       "        text-align: right;\n",
       "    }\n",
       "</style>\n",
       "<table border=\"1\" class=\"dataframe\">\n",
       "  <thead>\n",
       "    <tr style=\"text-align: right;\">\n",
       "      <th></th>\n",
       "      <th>fiber</th>\n",
       "      <th>percentage</th>\n",
       "    </tr>\n",
       "  </thead>\n",
       "  <tbody>\n",
       "    <tr>\n",
       "      <th>0</th>\n",
       "      <td>polyester recycled</td>\n",
       "      <td>100%</td>\n",
       "    </tr>\n",
       "  </tbody>\n",
       "</table>\n",
       "</div>"
      ],
      "text/plain": [
       "                fiber percentage\n",
       "0  polyester recycled       100%"
      ]
     },
     "execution_count": 98,
     "metadata": {},
     "output_type": "execute_result"
    }
   ],
   "source": [
    "if all_matches_df[0].isin(rest_group).any() == True:\n",
    "    for match in all_matches_df[all_matches_df[0].isin(rest_group)]:\n",
    "        fb_key = match[0]\n",
    "        print(f\"fiber: {fb_key}\")\n",
    "        int_tag_lines = match[1]\n",
    "        print(f\"interesting tag lines: {int_tag_lines}\")\n",
    "        pt = re.search(r'((\\d+)[%])',int_tag_lines[0])\n",
    "        pct = pt.group(0)\n",
    "        print(f\"percentage: {pct}\")\n",
    "        tag_info.loc[len(tag_info)] = [fb_key,pct]\n",
    "tag_info"
   ]
  },
  {
   "cell_type": "markdown",
   "metadata": {},
   "source": [
    "# Test with WINNER :)"
   ]
  },
  {
   "cell_type": "code",
   "execution_count": 4,
   "metadata": {},
   "outputs": [],
   "source": [
    "image2 = cv2.imread('../raw_data/label_composition_images/IMG_1388.JPG')"
   ]
  },
  {
   "cell_type": "code",
   "execution_count": 5,
   "metadata": {},
   "outputs": [
    {
     "data": {
      "text/plain": [
       "\"Aw'1g 05/19\\n\\n36% Lana / Wool / Wolle / Laine /\\nLana/ Ls\\n\\n35% Acrilica f Acrylic | Polyacrl /\\nActylique / Actilicg / Aerflico\\n\\n18% Alpaca / Alpaca / Alpaka /\\nAlpaga / Alnaca / Alpaca\\n\\n13% Poliamida / Nylon / Polyamid /\\nFolyamide / Poliammidica / Polyamide\\n\\n1% Elastano / Elastane / Elasthan/\\nElasthanne / Elastan / Elastano\\n\\nWAR ARE\\n\\nLAVAR AMANO - NO DEJAR OIC\\nNO USAR LEJIA BN REM\\n\\nNO UTILIZAR SECADORA\\n\\nPLANCHAR A TEMPERATURA BAJA\\n\\nMAX. 141°C\\n\\nNO LIMPIAR EN SECO\\n\\nLAVAR OEL REVES\\n\\nPLANCHAR DEL REVES\\n\\nSECAR =N PLANO\\n\\x0c\""
      ]
     },
     "execution_count": 5,
     "metadata": {},
     "output_type": "execute_result"
    }
   ],
   "source": [
    "ocr_result2 = image_to_string(image2)\n",
    "ocr_result2"
   ]
  },
  {
   "cell_type": "code",
   "execution_count": 6,
   "metadata": {},
   "outputs": [
    {
     "data": {
      "text/plain": [
       "[\"Aw'1g 05/19\",\n",
       " '',\n",
       " '36% Lana / Wool / Wolle / Laine /',\n",
       " 'Lana/ Ls',\n",
       " '',\n",
       " '35% Acrilica f Acrylic | Polyacrl /',\n",
       " 'Actylique / Actilicg / Aerflico',\n",
       " '',\n",
       " '18% Alpaca / Alpaca / Alpaka /',\n",
       " 'Alpaga / Alnaca / Alpaca',\n",
       " '',\n",
       " '13% Poliamida / Nylon / Polyamid /',\n",
       " 'Folyamide / Poliammidica / Polyamide',\n",
       " '',\n",
       " '1% Elastano / Elastane / Elasthan/',\n",
       " 'Elasthanne / Elastan / Elastano',\n",
       " '',\n",
       " 'WAR ARE',\n",
       " '',\n",
       " 'LAVAR AMANO - NO DEJAR OIC',\n",
       " 'NO USAR LEJIA BN REM',\n",
       " '',\n",
       " 'NO UTILIZAR SECADORA',\n",
       " '',\n",
       " 'PLANCHAR A TEMPERATURA BAJA',\n",
       " '',\n",
       " 'MAX. 141°C',\n",
       " '',\n",
       " 'NO LIMPIAR EN SECO',\n",
       " '',\n",
       " 'LAVAR OEL REVES',\n",
       " '',\n",
       " 'PLANCHAR DEL REVES',\n",
       " '',\n",
       " 'SECAR =N PLANO',\n",
       " '']"
      ]
     },
     "execution_count": 6,
     "metadata": {},
     "output_type": "execute_result"
    }
   ],
   "source": [
    "ocr_splitted2 = ocr_result2.splitlines()\n",
    "ocr_splitted2"
   ]
  },
  {
   "cell_type": "code",
   "execution_count": 7,
   "metadata": {},
   "outputs": [
    {
     "data": {
      "text/plain": [
       "pandas.core.frame.DataFrame"
      ]
     },
     "execution_count": 7,
     "metadata": {},
     "output_type": "execute_result"
    }
   ],
   "source": [
    "fb4_keys = pd.read_csv('../eco_fashion_project/data/fibre_cleanedx4.csv')\n",
    "type(fb4_keys)"
   ]
  },
  {
   "cell_type": "code",
   "execution_count": 8,
   "metadata": {},
   "outputs": [
    {
     "name": "stdout",
     "output_type": "stream",
     "text": [
      "['mechanically recycled nylon', 'mechanically recycled polyester', 'recycled nylon', 'nylon recycled', 'recycled polyester', 'polyester recycled', 'organic linen', 'linen organic', 'organic hemp', 'hemp organic', 'recycled cotton', 'cotton recycled', 'recycled wool', 'wool recycled', 'chemically recycled nylon', 'chemically recycled polyester', 'crailar', 'in conversion cotton', 'cotton in conversion', 'monocel', 'organic cotton', 'cotton organic', 'tencel', 'linen', 'hemp', 'pla polylactide', 'ramie', 'modal lenzing viscose', 'modal', 'lenzing', 'acrylic', 'polyacrylic', 'polyester', 'bamboo viscose', 'cotton', 'viscose', 'rayon', 'spandex', 'elastane', 'nylon', 'wool', 'acetate', 'alpaca', 'cashmere', 'leather', 'mohair', 'bamboo', 'organic wool', 'wool organic', 'silk', 'banana', 'cork', 'jute', 'nettle', 'sisal', 'spanish broom', 'abaca', 'crab shell', 'lyocell', 'coconut choir', 'kapok', 'ramie', 'feathers', 'feather', 'orange fibre', 'apple leather', 'grape leather', 'pineapple leather', 'soy bean', 'rubber', 'angora', 'casein', 'elastothane', 'polyamide', 'polyethylene', 'synthetic leather', 'leather synthetic', 'polytrimethylene', 'teraphtalate']\n"
     ]
    }
   ],
   "source": [
    "fibres_list = fb4_keys['Material'].tolist()\n",
    "print(fibres_list)"
   ]
  },
  {
   "cell_type": "code",
   "execution_count": 9,
   "metadata": {},
   "outputs": [
    {
     "data": {
      "text/html": [
       "<div>\n",
       "<style scoped>\n",
       "    .dataframe tbody tr th:only-of-type {\n",
       "        vertical-align: middle;\n",
       "    }\n",
       "\n",
       "    .dataframe tbody tr th {\n",
       "        vertical-align: top;\n",
       "    }\n",
       "\n",
       "    .dataframe thead th {\n",
       "        text-align: right;\n",
       "    }\n",
       "</style>\n",
       "<table border=\"1\" class=\"dataframe\">\n",
       "  <thead>\n",
       "    <tr style=\"text-align: right;\">\n",
       "      <th></th>\n",
       "      <th>Material</th>\n",
       "      <th>Final Score</th>\n",
       "    </tr>\n",
       "  </thead>\n",
       "  <tbody>\n",
       "    <tr>\n",
       "      <th>0</th>\n",
       "      <td>mechanically recycled nylon</td>\n",
       "      <td>5.000</td>\n",
       "    </tr>\n",
       "    <tr>\n",
       "      <th>1</th>\n",
       "      <td>mechanically recycled polyester</td>\n",
       "      <td>5.000</td>\n",
       "    </tr>\n",
       "    <tr>\n",
       "      <th>2</th>\n",
       "      <td>recycled nylon</td>\n",
       "      <td>2.875</td>\n",
       "    </tr>\n",
       "    <tr>\n",
       "      <th>3</th>\n",
       "      <td>nylon recycled</td>\n",
       "      <td>2.875</td>\n",
       "    </tr>\n",
       "    <tr>\n",
       "      <th>4</th>\n",
       "      <td>recycled polyester</td>\n",
       "      <td>2.875</td>\n",
       "    </tr>\n",
       "    <tr>\n",
       "      <th>5</th>\n",
       "      <td>polyester recycled</td>\n",
       "      <td>2.875</td>\n",
       "    </tr>\n",
       "    <tr>\n",
       "      <th>6</th>\n",
       "      <td>organic linen</td>\n",
       "      <td>5.000</td>\n",
       "    </tr>\n",
       "    <tr>\n",
       "      <th>7</th>\n",
       "      <td>linen organic</td>\n",
       "      <td>5.000</td>\n",
       "    </tr>\n",
       "    <tr>\n",
       "      <th>8</th>\n",
       "      <td>organic hemp</td>\n",
       "      <td>5.000</td>\n",
       "    </tr>\n",
       "    <tr>\n",
       "      <th>9</th>\n",
       "      <td>hemp organic</td>\n",
       "      <td>5.000</td>\n",
       "    </tr>\n",
       "    <tr>\n",
       "      <th>10</th>\n",
       "      <td>recycled cotton</td>\n",
       "      <td>5.000</td>\n",
       "    </tr>\n",
       "    <tr>\n",
       "      <th>11</th>\n",
       "      <td>cotton recycled</td>\n",
       "      <td>5.000</td>\n",
       "    </tr>\n",
       "    <tr>\n",
       "      <th>12</th>\n",
       "      <td>recycled wool</td>\n",
       "      <td>5.000</td>\n",
       "    </tr>\n",
       "    <tr>\n",
       "      <th>13</th>\n",
       "      <td>wool recycled</td>\n",
       "      <td>5.000</td>\n",
       "    </tr>\n",
       "    <tr>\n",
       "      <th>14</th>\n",
       "      <td>chemically recycled nylon</td>\n",
       "      <td>2.875</td>\n",
       "    </tr>\n",
       "    <tr>\n",
       "      <th>15</th>\n",
       "      <td>chemically recycled polyester</td>\n",
       "      <td>2.875</td>\n",
       "    </tr>\n",
       "    <tr>\n",
       "      <th>16</th>\n",
       "      <td>crailar</td>\n",
       "      <td>4.000</td>\n",
       "    </tr>\n",
       "    <tr>\n",
       "      <th>17</th>\n",
       "      <td>in conversion cotton</td>\n",
       "      <td>4.000</td>\n",
       "    </tr>\n",
       "    <tr>\n",
       "      <th>18</th>\n",
       "      <td>cotton in conversion</td>\n",
       "      <td>4.000</td>\n",
       "    </tr>\n",
       "    <tr>\n",
       "      <th>19</th>\n",
       "      <td>monocel</td>\n",
       "      <td>4.000</td>\n",
       "    </tr>\n",
       "    <tr>\n",
       "      <th>20</th>\n",
       "      <td>organic cotton</td>\n",
       "      <td>4.250</td>\n",
       "    </tr>\n",
       "    <tr>\n",
       "      <th>21</th>\n",
       "      <td>cotton organic</td>\n",
       "      <td>4.250</td>\n",
       "    </tr>\n",
       "    <tr>\n",
       "      <th>22</th>\n",
       "      <td>tencel</td>\n",
       "      <td>4.000</td>\n",
       "    </tr>\n",
       "    <tr>\n",
       "      <th>23</th>\n",
       "      <td>linen</td>\n",
       "      <td>4.000</td>\n",
       "    </tr>\n",
       "    <tr>\n",
       "      <th>24</th>\n",
       "      <td>hemp</td>\n",
       "      <td>4.000</td>\n",
       "    </tr>\n",
       "    <tr>\n",
       "      <th>25</th>\n",
       "      <td>pla polylactide</td>\n",
       "      <td>3.625</td>\n",
       "    </tr>\n",
       "    <tr>\n",
       "      <th>26</th>\n",
       "      <td>ramie</td>\n",
       "      <td>3.000</td>\n",
       "    </tr>\n",
       "    <tr>\n",
       "      <th>27</th>\n",
       "      <td>modal lenzing viscose</td>\n",
       "      <td>2.750</td>\n",
       "    </tr>\n",
       "    <tr>\n",
       "      <th>28</th>\n",
       "      <td>modal</td>\n",
       "      <td>2.750</td>\n",
       "    </tr>\n",
       "    <tr>\n",
       "      <th>29</th>\n",
       "      <td>lenzing</td>\n",
       "      <td>2.750</td>\n",
       "    </tr>\n",
       "    <tr>\n",
       "      <th>...</th>\n",
       "      <td>...</td>\n",
       "      <td>...</td>\n",
       "    </tr>\n",
       "    <tr>\n",
       "      <th>49</th>\n",
       "      <td>silk</td>\n",
       "      <td>4.250</td>\n",
       "    </tr>\n",
       "    <tr>\n",
       "      <th>50</th>\n",
       "      <td>banana</td>\n",
       "      <td>5.000</td>\n",
       "    </tr>\n",
       "    <tr>\n",
       "      <th>51</th>\n",
       "      <td>cork</td>\n",
       "      <td>5.000</td>\n",
       "    </tr>\n",
       "    <tr>\n",
       "      <th>52</th>\n",
       "      <td>jute</td>\n",
       "      <td>5.000</td>\n",
       "    </tr>\n",
       "    <tr>\n",
       "      <th>53</th>\n",
       "      <td>nettle</td>\n",
       "      <td>5.000</td>\n",
       "    </tr>\n",
       "    <tr>\n",
       "      <th>54</th>\n",
       "      <td>sisal</td>\n",
       "      <td>5.000</td>\n",
       "    </tr>\n",
       "    <tr>\n",
       "      <th>55</th>\n",
       "      <td>spanish broom</td>\n",
       "      <td>5.000</td>\n",
       "    </tr>\n",
       "    <tr>\n",
       "      <th>56</th>\n",
       "      <td>abaca</td>\n",
       "      <td>4.750</td>\n",
       "    </tr>\n",
       "    <tr>\n",
       "      <th>57</th>\n",
       "      <td>crab shell</td>\n",
       "      <td>4.750</td>\n",
       "    </tr>\n",
       "    <tr>\n",
       "      <th>58</th>\n",
       "      <td>lyocell</td>\n",
       "      <td>4.750</td>\n",
       "    </tr>\n",
       "    <tr>\n",
       "      <th>59</th>\n",
       "      <td>coconut choir</td>\n",
       "      <td>4.500</td>\n",
       "    </tr>\n",
       "    <tr>\n",
       "      <th>60</th>\n",
       "      <td>kapok</td>\n",
       "      <td>4.500</td>\n",
       "    </tr>\n",
       "    <tr>\n",
       "      <th>61</th>\n",
       "      <td>ramie</td>\n",
       "      <td>4.500</td>\n",
       "    </tr>\n",
       "    <tr>\n",
       "      <th>62</th>\n",
       "      <td>feathers</td>\n",
       "      <td>4.000</td>\n",
       "    </tr>\n",
       "    <tr>\n",
       "      <th>63</th>\n",
       "      <td>feather</td>\n",
       "      <td>4.000</td>\n",
       "    </tr>\n",
       "    <tr>\n",
       "      <th>64</th>\n",
       "      <td>orange fibre</td>\n",
       "      <td>4.000</td>\n",
       "    </tr>\n",
       "    <tr>\n",
       "      <th>65</th>\n",
       "      <td>apple leather</td>\n",
       "      <td>3.750</td>\n",
       "    </tr>\n",
       "    <tr>\n",
       "      <th>66</th>\n",
       "      <td>grape leather</td>\n",
       "      <td>3.750</td>\n",
       "    </tr>\n",
       "    <tr>\n",
       "      <th>67</th>\n",
       "      <td>pineapple leather</td>\n",
       "      <td>3.750</td>\n",
       "    </tr>\n",
       "    <tr>\n",
       "      <th>68</th>\n",
       "      <td>soy bean</td>\n",
       "      <td>3.750</td>\n",
       "    </tr>\n",
       "    <tr>\n",
       "      <th>69</th>\n",
       "      <td>rubber</td>\n",
       "      <td>3.500</td>\n",
       "    </tr>\n",
       "    <tr>\n",
       "      <th>70</th>\n",
       "      <td>angora</td>\n",
       "      <td>3.250</td>\n",
       "    </tr>\n",
       "    <tr>\n",
       "      <th>71</th>\n",
       "      <td>casein</td>\n",
       "      <td>1.750</td>\n",
       "    </tr>\n",
       "    <tr>\n",
       "      <th>72</th>\n",
       "      <td>elastothane</td>\n",
       "      <td>1.000</td>\n",
       "    </tr>\n",
       "    <tr>\n",
       "      <th>73</th>\n",
       "      <td>polyamide</td>\n",
       "      <td>1.000</td>\n",
       "    </tr>\n",
       "    <tr>\n",
       "      <th>74</th>\n",
       "      <td>polyethylene</td>\n",
       "      <td>1.000</td>\n",
       "    </tr>\n",
       "    <tr>\n",
       "      <th>75</th>\n",
       "      <td>synthetic leather</td>\n",
       "      <td>1.000</td>\n",
       "    </tr>\n",
       "    <tr>\n",
       "      <th>76</th>\n",
       "      <td>leather synthetic</td>\n",
       "      <td>1.000</td>\n",
       "    </tr>\n",
       "    <tr>\n",
       "      <th>77</th>\n",
       "      <td>polytrimethylene</td>\n",
       "      <td>1.000</td>\n",
       "    </tr>\n",
       "    <tr>\n",
       "      <th>78</th>\n",
       "      <td>teraphtalate</td>\n",
       "      <td>1.000</td>\n",
       "    </tr>\n",
       "  </tbody>\n",
       "</table>\n",
       "<p>79 rows × 2 columns</p>\n",
       "</div>"
      ],
      "text/plain": [
       "                           Material  Final Score\n",
       "0       mechanically recycled nylon        5.000\n",
       "1   mechanically recycled polyester        5.000\n",
       "2                    recycled nylon        2.875\n",
       "3                    nylon recycled        2.875\n",
       "4                recycled polyester        2.875\n",
       "5                polyester recycled        2.875\n",
       "6                     organic linen        5.000\n",
       "7                     linen organic        5.000\n",
       "8                      organic hemp        5.000\n",
       "9                      hemp organic        5.000\n",
       "10                  recycled cotton        5.000\n",
       "11                  cotton recycled        5.000\n",
       "12                    recycled wool        5.000\n",
       "13                    wool recycled        5.000\n",
       "14        chemically recycled nylon        2.875\n",
       "15    chemically recycled polyester        2.875\n",
       "16                          crailar        4.000\n",
       "17             in conversion cotton        4.000\n",
       "18             cotton in conversion        4.000\n",
       "19                          monocel        4.000\n",
       "20                   organic cotton        4.250\n",
       "21                   cotton organic        4.250\n",
       "22                           tencel        4.000\n",
       "23                            linen        4.000\n",
       "24                             hemp        4.000\n",
       "25                  pla polylactide        3.625\n",
       "26                            ramie        3.000\n",
       "27            modal lenzing viscose        2.750\n",
       "28                            modal        2.750\n",
       "29                          lenzing        2.750\n",
       "..                              ...          ...\n",
       "49                             silk        4.250\n",
       "50                           banana        5.000\n",
       "51                             cork        5.000\n",
       "52                             jute        5.000\n",
       "53                           nettle        5.000\n",
       "54                            sisal        5.000\n",
       "55                    spanish broom        5.000\n",
       "56                            abaca        4.750\n",
       "57                       crab shell        4.750\n",
       "58                          lyocell        4.750\n",
       "59                    coconut choir        4.500\n",
       "60                            kapok        4.500\n",
       "61                            ramie        4.500\n",
       "62                         feathers        4.000\n",
       "63                          feather        4.000\n",
       "64                     orange fibre        4.000\n",
       "65                    apple leather        3.750\n",
       "66                    grape leather        3.750\n",
       "67                pineapple leather        3.750\n",
       "68                         soy bean        3.750\n",
       "69                           rubber        3.500\n",
       "70                           angora        3.250\n",
       "71                           casein        1.750\n",
       "72                      elastothane        1.000\n",
       "73                        polyamide        1.000\n",
       "74                     polyethylene        1.000\n",
       "75                synthetic leather        1.000\n",
       "76                leather synthetic        1.000\n",
       "77                 polytrimethylene        1.000\n",
       "78                     teraphtalate        1.000\n",
       "\n",
       "[79 rows x 2 columns]"
      ]
     },
     "execution_count": 9,
     "metadata": {},
     "output_type": "execute_result"
    }
   ],
   "source": [
    "fb4_keys"
   ]
  },
  {
   "cell_type": "code",
   "execution_count": 10,
   "metadata": {},
   "outputs": [
    {
     "name": "stdout",
     "output_type": "stream",
     "text": [
      "['mechanically recycled nylon', 'recycled nylon', 'nylon recycled', 'chemically recycled nylon', 'nylon', 'polyamide']\n",
      "['mechanically recycled polyester', 'recycled polyester', 'polyester recycled', 'chemically recycled polyester', 'polyester']\n",
      "['organic linen', 'linen organic', 'linen']\n",
      "['organic hemp', 'hemp organic', 'hemp']\n",
      "['recycled cotton', 'cotton recycled', 'in conversion cotton', 'cotton in conversion', 'organic cotton', 'cotton organic', 'cotton']\n",
      "['recycled wool', 'wool recycled', 'wool', 'organic wool', 'wool organic']\n",
      "['modal lenzing viscose', 'bamboo viscose', 'viscose']\n",
      "['leather', 'apple leather', 'grape leather', 'pineapple leather', 'synthetic leather', 'leather synthetic']\n"
     ]
    }
   ],
   "source": [
    "nylon_group = [s for s in fibres_list if \"nylon\" in s or \"polyamide\" in s]\n",
    "print(nylon_group)\n",
    "polyester_group = [s for s in fibres_list if \"polyester\" in s]\n",
    "print(polyester_group)\n",
    "linen_group = [s for s in fibres_list if \"linen\" in s]\n",
    "print(linen_group)\n",
    "hemp_group = [s for s in fibres_list if \"hemp\" in s]\n",
    "print(hemp_group)\n",
    "cotton_group = [s for s in fibres_list if \"cotton\" in s]\n",
    "print(cotton_group)\n",
    "wool_group = [s for s in fibres_list if \"wool\" in s]\n",
    "print(wool_group)\n",
    "viscose_group = [s for s in fibres_list if \"viscose\" in s]\n",
    "print(viscose_group)\n",
    "leather_group = [s for s in fibres_list if \"leather\" in s]\n",
    "print(leather_group)"
   ]
  },
  {
   "cell_type": "code",
   "execution_count": 11,
   "metadata": {},
   "outputs": [],
   "source": [
    "multi_fb_group_list = [nylon_group, polyester_group, linen_group, hemp_group, cotton_group, wool_group, viscose_group, leather_group]"
   ]
  },
  {
   "cell_type": "code",
   "execution_count": 12,
   "metadata": {},
   "outputs": [
    {
     "name": "stdout",
     "output_type": "stream",
     "text": [
      "['crailar', 'monocel', 'tencel', 'pla polylactide', 'ramie', 'modal', 'lenzing', 'acrylic', 'polyacrylic', 'rayon', 'spandex', 'elastane', 'acetate', 'alpaca', 'cashmere', 'mohair', 'bamboo', 'silk', 'banana', 'cork', 'jute', 'nettle', 'sisal', 'spanish broom', 'abaca', 'crab shell', 'lyocell', 'coconut choir', 'kapok', 'ramie', 'feathers', 'feather', 'orange fibre', 'soy bean', 'rubber', 'angora', 'casein', 'elastothane', 'polyethylene', 'polytrimethylene', 'teraphtalate']\n"
     ]
    }
   ],
   "source": [
    "rest_group = fibres_list\n",
    "for group in multi_fb_group_list:\n",
    "    rest_group = [s for s in rest_group if s not in group]\n",
    "\n",
    "print(rest_group)"
   ]
  },
  {
   "cell_type": "code",
   "execution_count": 13,
   "metadata": {},
   "outputs": [
    {
     "name": "stdout",
     "output_type": "stream",
     "text": [
      "[6, 5, 3, 3, 7, 5, 3, 6]\n",
      "41\n"
     ]
    }
   ],
   "source": [
    "nr_in_mfb_groups = []\n",
    "for group in multi_fb_group_list:\n",
    "    nr_in_mfb_groups.append(len(group))\n",
    "print(nr_in_mfb_groups)\n",
    "print(len(rest_group))\n",
    "assert len(fibres_list) == sum(nr_in_mfb_groups, len(rest_group))"
   ]
  },
  {
   "cell_type": "code",
   "execution_count": 14,
   "metadata": {},
   "outputs": [
    {
     "data": {
      "text/html": [
       "<div>\n",
       "<style scoped>\n",
       "    .dataframe tbody tr th:only-of-type {\n",
       "        vertical-align: middle;\n",
       "    }\n",
       "\n",
       "    .dataframe tbody tr th {\n",
       "        vertical-align: top;\n",
       "    }\n",
       "\n",
       "    .dataframe thead th {\n",
       "        text-align: right;\n",
       "    }\n",
       "</style>\n",
       "<table border=\"1\" class=\"dataframe\">\n",
       "  <thead>\n",
       "    <tr style=\"text-align: right;\">\n",
       "      <th></th>\n",
       "      <th>0</th>\n",
       "      <th>1</th>\n",
       "    </tr>\n",
       "  </thead>\n",
       "  <tbody>\n",
       "    <tr>\n",
       "      <th>0</th>\n",
       "      <td>acrylic</td>\n",
       "      <td>[35% acrilica f acrylic | polyacrl /]</td>\n",
       "    </tr>\n",
       "    <tr>\n",
       "      <th>1</th>\n",
       "      <td>elastane</td>\n",
       "      <td>[1% elastano / elastane / elasthan/]</td>\n",
       "    </tr>\n",
       "    <tr>\n",
       "      <th>2</th>\n",
       "      <td>nylon</td>\n",
       "      <td>[13% poliamida / nylon / polyamid /]</td>\n",
       "    </tr>\n",
       "    <tr>\n",
       "      <th>3</th>\n",
       "      <td>wool</td>\n",
       "      <td>[36% lana / wool / wolle / laine /]</td>\n",
       "    </tr>\n",
       "    <tr>\n",
       "      <th>4</th>\n",
       "      <td>alpaca</td>\n",
       "      <td>[18% alpaca / alpaca / alpaka /, alpaga / alna...</td>\n",
       "    </tr>\n",
       "    <tr>\n",
       "      <th>5</th>\n",
       "      <td>polyamide</td>\n",
       "      <td>[folyamide / poliammidica / polyamide]</td>\n",
       "    </tr>\n",
       "  </tbody>\n",
       "</table>\n",
       "</div>"
      ],
      "text/plain": [
       "           0                                                  1\n",
       "0    acrylic              [35% acrilica f acrylic | polyacrl /]\n",
       "1   elastane               [1% elastano / elastane / elasthan/]\n",
       "2      nylon               [13% poliamida / nylon / polyamid /]\n",
       "3       wool                [36% lana / wool / wolle / laine /]\n",
       "4     alpaca  [18% alpaca / alpaca / alpaka /, alpaga / alna...\n",
       "5  polyamide             [folyamide / poliammidica / polyamide]"
      ]
     },
     "execution_count": 14,
     "metadata": {},
     "output_type": "execute_result"
    }
   ],
   "source": [
    "def get_matches(ocr_splitted):\n",
    "    all_matches = []\n",
    "    for fibre in fibres_list:\n",
    "        matching = [s.lower() for s in ocr_splitted if fibre in s.lower()]\n",
    "        if matching:\n",
    "            matched = [fibre, matching]\n",
    "            all_matches.append(matched)\n",
    "\n",
    "    all_matches_df = pd.DataFrame(all_matches)\n",
    "    return all_matches_df\n",
    "\n",
    "all_matches2_df = get_matches(ocr_splitted2)\n",
    "all_matches2_df"
   ]
  },
  {
   "cell_type": "markdown",
   "metadata": {},
   "source": [
    "Findings:\n",
    "polyamide should be disregarded (synonymous for nylon), \n",
    "alpaca % not correct (should be 15 instead of 18)\n",
    "Try and take better picture"
   ]
  },
  {
   "cell_type": "code",
   "execution_count": 15,
   "metadata": {},
   "outputs": [
    {
     "data": {
      "text/html": [
       "<div>\n",
       "<style scoped>\n",
       "    .dataframe tbody tr th:only-of-type {\n",
       "        vertical-align: middle;\n",
       "    }\n",
       "\n",
       "    .dataframe tbody tr th {\n",
       "        vertical-align: top;\n",
       "    }\n",
       "\n",
       "    .dataframe thead th {\n",
       "        text-align: right;\n",
       "    }\n",
       "</style>\n",
       "<table border=\"1\" class=\"dataframe\">\n",
       "  <thead>\n",
       "    <tr style=\"text-align: right;\">\n",
       "      <th></th>\n",
       "      <th>1</th>\n",
       "    </tr>\n",
       "    <tr>\n",
       "      <th>0</th>\n",
       "      <th></th>\n",
       "    </tr>\n",
       "  </thead>\n",
       "  <tbody>\n",
       "    <tr>\n",
       "      <th>acrylic</th>\n",
       "      <td>[35% acrilica f acrylic | polyacrl /]</td>\n",
       "    </tr>\n",
       "    <tr>\n",
       "      <th>elastane</th>\n",
       "      <td>[1% elastano / elastane / elasthan/]</td>\n",
       "    </tr>\n",
       "    <tr>\n",
       "      <th>nylon</th>\n",
       "      <td>[13% poliamida / nylon / polyamid /]</td>\n",
       "    </tr>\n",
       "    <tr>\n",
       "      <th>wool</th>\n",
       "      <td>[36% lana / wool / wolle / laine /]</td>\n",
       "    </tr>\n",
       "    <tr>\n",
       "      <th>alpaca</th>\n",
       "      <td>[18% alpaca / alpaca / alpaka /, alpaga / alna...</td>\n",
       "    </tr>\n",
       "    <tr>\n",
       "      <th>polyamide</th>\n",
       "      <td>[folyamide / poliammidica / polyamide]</td>\n",
       "    </tr>\n",
       "  </tbody>\n",
       "</table>\n",
       "</div>"
      ],
      "text/plain": [
       "                                                           1\n",
       "0                                                           \n",
       "acrylic                [35% acrilica f acrylic | polyacrl /]\n",
       "elastane                [1% elastano / elastane / elasthan/]\n",
       "nylon                   [13% poliamida / nylon / polyamid /]\n",
       "wool                     [36% lana / wool / wolle / laine /]\n",
       "alpaca     [18% alpaca / alpaca / alpaka /, alpaga / alna...\n",
       "polyamide             [folyamide / poliammidica / polyamide]"
      ]
     },
     "execution_count": 15,
     "metadata": {},
     "output_type": "execute_result"
    }
   ],
   "source": [
    "ind_all_matches2_df = all_matches2_df.set_index(0)\n",
    "ind_all_matches2_df"
   ]
  },
  {
   "cell_type": "code",
   "execution_count": 17,
   "metadata": {},
   "outputs": [
    {
     "data": {
      "text/html": [
       "<div>\n",
       "<style scoped>\n",
       "    .dataframe tbody tr th:only-of-type {\n",
       "        vertical-align: middle;\n",
       "    }\n",
       "\n",
       "    .dataframe tbody tr th {\n",
       "        vertical-align: top;\n",
       "    }\n",
       "\n",
       "    .dataframe thead th {\n",
       "        text-align: right;\n",
       "    }\n",
       "</style>\n",
       "<table border=\"1\" class=\"dataframe\">\n",
       "  <thead>\n",
       "    <tr style=\"text-align: right;\">\n",
       "      <th></th>\n",
       "      <th>fiber</th>\n",
       "      <th>percentage</th>\n",
       "    </tr>\n",
       "  </thead>\n",
       "  <tbody>\n",
       "    <tr>\n",
       "      <th>0</th>\n",
       "      <td>nylon</td>\n",
       "      <td>13%</td>\n",
       "    </tr>\n",
       "    <tr>\n",
       "      <th>1</th>\n",
       "      <td>wool</td>\n",
       "      <td>36%</td>\n",
       "    </tr>\n",
       "    <tr>\n",
       "      <th>2</th>\n",
       "      <td>acrylic</td>\n",
       "      <td>35%</td>\n",
       "    </tr>\n",
       "    <tr>\n",
       "      <th>3</th>\n",
       "      <td>elastane</td>\n",
       "      <td>1%</td>\n",
       "    </tr>\n",
       "    <tr>\n",
       "      <th>4</th>\n",
       "      <td>alpaca</td>\n",
       "      <td>18%</td>\n",
       "    </tr>\n",
       "  </tbody>\n",
       "</table>\n",
       "</div>"
      ],
      "text/plain": [
       "      fiber percentage\n",
       "0     nylon        13%\n",
       "1      wool        36%\n",
       "2   acrylic        35%\n",
       "3  elastane         1%\n",
       "4    alpaca        18%"
      ]
     },
     "execution_count": 17,
     "metadata": {},
     "output_type": "execute_result"
    }
   ],
   "source": [
    "import re\n",
    "\n",
    "def get_fiber_pct(df):\n",
    "    ind_df = df.set_index(0)\n",
    "\n",
    "    tag_info = pd.DataFrame(columns = [\"fiber\", \"percentage\"])\n",
    "\n",
    "    for group in multi_fb_group_list:\n",
    "        if df[0].isin(group).any() == True:\n",
    "            grouped_fibres = df[0][df[0].isin(group)]\n",
    "\n",
    "            fb_key = max(grouped_fibres, key=len)\n",
    "            if fb_key == \"polyamide\" and grouped_fibres.iloc[0] == 'nylon':\n",
    "                fb_key = 'nylon'\n",
    "            \n",
    "            pct = get_pct(ind_df, fb_key)\n",
    "            tag_info.loc[len(tag_info)] = [fb_key,pct]\n",
    "\n",
    "    if df[0].isin(rest_group).any() == True:\n",
    "        for match in df[0][df[0].isin(rest_group)]:\n",
    "            fb_key = match\n",
    "            pct = get_pct(ind_df, fb_key)\n",
    "            tag_info.loc[len(tag_info)] = [fb_key,pct]\n",
    "\n",
    "    return tag_info\n",
    "\n",
    "def get_pct(ind_df, fb_key):\n",
    "    int_tag_lines = ind_df.loc[fb_key][1]\n",
    "    #print(f\"interesting tag lines: {int_tag_lines}\")\n",
    "    pt = re.search(r'((\\d+)[%])',int_tag_lines[0])\n",
    "    pct = pt.group(0)\n",
    "    \n",
    "    return pct\n",
    "\n",
    "get_fiber_pct(all_matches2_df)"
   ]
  },
  {
   "cell_type": "code",
   "execution_count": 33,
   "metadata": {},
   "outputs": [],
   "source": [
    "import string\n",
    "\n",
    "def percentages_to_float(df):\n",
    "    percentage_final_list = []\n",
    "    # added tag_score_ in 2 lines underneath:\n",
    "    tag_score_df = df.set_index('fiber')\n",
    "    pct_list = tag_score_df['percentage'].tolist()\n",
    "\n",
    "    punctuations = string.punctuation\n",
    "    clean_strings = [''.join(x for x in string if x not in punctuations) for string in pct_list]\n",
    "\n",
    "    if clean_strings:\n",
    "        for number in clean_strings:\n",
    "            if number:\n",
    "                final_number = float(number)/100\n",
    "            else:\n",
    "                final_number = 0\n",
    "            percentage_final_list.append(final_number)\n",
    "    # else clean_strings = list with all 0?\n",
    "\n",
    "    return percentage_final_list\n"
   ]
  },
  {
   "cell_type": "code",
   "execution_count": 34,
   "metadata": {},
   "outputs": [
    {
     "data": {
      "text/plain": [
       "[0.13, 0.36, 0.35, 0.01, 0.18]"
      ]
     },
     "execution_count": 34,
     "metadata": {},
     "output_type": "execute_result"
    }
   ],
   "source": [
    "percentage_list2 = percentages_to_float(tag_info)\n",
    "percentage_list2"
   ]
  },
  {
   "cell_type": "code",
   "execution_count": 35,
   "metadata": {},
   "outputs": [
    {
     "name": "stdout",
     "output_type": "stream",
     "text": [
      "Please check the composition of the label: percentages do not add up to 100%\n"
     ]
    }
   ],
   "source": [
    "check_100_pct(percentage_list2)"
   ]
  },
  {
   "cell_type": "code",
   "execution_count": 19,
   "metadata": {},
   "outputs": [],
   "source": [
    "def check_100_pct(percentage_list):\n",
    "    if sum(percentage_list) != 1.0:\n",
    "        print(\"Please check the composition of the label: percentages do not add up to 100%\")\n",
    "    pass\n"
   ]
  },
  {
   "cell_type": "code",
   "execution_count": 21,
   "metadata": {},
   "outputs": [
    {
     "data": {
      "text/plain": [
       "[0.13, 0.36, 0.35, 0.01, 0.18]"
      ]
     },
     "execution_count": 21,
     "metadata": {},
     "output_type": "execute_result"
    }
   ],
   "source": [
    "tag_info = get_fiber_pct(all_matches2_df)\n",
    "percentage_list = percentages_to_float(tag_info)\n",
    "percentage_list"
   ]
  },
  {
   "cell_type": "code",
   "execution_count": 22,
   "metadata": {},
   "outputs": [
    {
     "name": "stdout",
     "output_type": "stream",
     "text": [
      "Please check the composition of the label: percentages do not add up to 100%\n"
     ]
    }
   ],
   "source": [
    "check_100_pct(percentage_list)"
   ]
  },
  {
   "cell_type": "code",
   "execution_count": 20,
   "metadata": {},
   "outputs": [
    {
     "data": {
      "text/html": [
       "<div>\n",
       "<style scoped>\n",
       "    .dataframe tbody tr th:only-of-type {\n",
       "        vertical-align: middle;\n",
       "    }\n",
       "\n",
       "    .dataframe tbody tr th {\n",
       "        vertical-align: top;\n",
       "    }\n",
       "\n",
       "    .dataframe thead th {\n",
       "        text-align: right;\n",
       "    }\n",
       "</style>\n",
       "<table border=\"1\" class=\"dataframe\">\n",
       "  <thead>\n",
       "    <tr style=\"text-align: right;\">\n",
       "      <th></th>\n",
       "      <th>Final Score</th>\n",
       "    </tr>\n",
       "    <tr>\n",
       "      <th>Material</th>\n",
       "      <th></th>\n",
       "    </tr>\n",
       "  </thead>\n",
       "  <tbody>\n",
       "    <tr>\n",
       "      <th>mechanically recycled nylon</th>\n",
       "      <td>5.000</td>\n",
       "    </tr>\n",
       "    <tr>\n",
       "      <th>mechanically recycled polyester</th>\n",
       "      <td>5.000</td>\n",
       "    </tr>\n",
       "    <tr>\n",
       "      <th>recycled nylon</th>\n",
       "      <td>2.875</td>\n",
       "    </tr>\n",
       "    <tr>\n",
       "      <th>nylon recycled</th>\n",
       "      <td>2.875</td>\n",
       "    </tr>\n",
       "    <tr>\n",
       "      <th>recycled polyester</th>\n",
       "      <td>2.875</td>\n",
       "    </tr>\n",
       "  </tbody>\n",
       "</table>\n",
       "</div>"
      ],
      "text/plain": [
       "                                 Final Score\n",
       "Material                                    \n",
       "mechanically recycled nylon            5.000\n",
       "mechanically recycled polyester        5.000\n",
       "recycled nylon                         2.875\n",
       "nylon recycled                         2.875\n",
       "recycled polyester                     2.875"
      ]
     },
     "execution_count": 20,
     "metadata": {},
     "output_type": "execute_result"
    }
   ],
   "source": [
    "fiber_score_df = fb4_keys.set_index('Material')\n",
    "fiber_score_df.head()"
   ]
  },
  {
   "cell_type": "code",
   "execution_count": 24,
   "metadata": {},
   "outputs": [
    {
     "data": {
      "text/plain": [
       "2.875"
      ]
     },
     "execution_count": 24,
     "metadata": {},
     "output_type": "execute_result"
    }
   ],
   "source": [
    "fiber_score_df.loc['nylon recycled']['Final Score']"
   ]
  },
  {
   "cell_type": "code",
   "execution_count": 31,
   "metadata": {},
   "outputs": [],
   "source": [
    "def get_score(fiber_score_df, df):\n",
    "    score_list = []\n",
    "    tag_score_df = df.set_index('fiber')\n",
    "    \n",
    "    for fiber_id, row in tag_score_df.iterrows():\n",
    "        score_list.append(fiber_score_df.loc[f\"{fiber_id}\"]['Final Score'])\n",
    "    \n",
    "    return score_list\n",
    "    \n",
    "# or tag_score_df['score'] = score_list\n",
    "# return tag_score_df"
   ]
  },
  {
   "cell_type": "code",
   "execution_count": 32,
   "metadata": {},
   "outputs": [
    {
     "data": {
      "text/plain": [
       "[1.0, 2.375, 1.5, 1.0, 4.0]"
      ]
     },
     "execution_count": 32,
     "metadata": {},
     "output_type": "execute_result"
    }
   ],
   "source": [
    "get_score(fiber_score_df, tag_info)"
   ]
  },
  {
   "cell_type": "code",
   "execution_count": 37,
   "metadata": {},
   "outputs": [
    {
     "data": {
      "text/html": [
       "<div>\n",
       "<style scoped>\n",
       "    .dataframe tbody tr th:only-of-type {\n",
       "        vertical-align: middle;\n",
       "    }\n",
       "\n",
       "    .dataframe tbody tr th {\n",
       "        vertical-align: top;\n",
       "    }\n",
       "\n",
       "    .dataframe thead th {\n",
       "        text-align: right;\n",
       "    }\n",
       "</style>\n",
       "<table border=\"1\" class=\"dataframe\">\n",
       "  <thead>\n",
       "    <tr style=\"text-align: right;\">\n",
       "      <th></th>\n",
       "      <th>percentage</th>\n",
       "      <th>share</th>\n",
       "      <th>score</th>\n",
       "    </tr>\n",
       "    <tr>\n",
       "      <th>fiber</th>\n",
       "      <th></th>\n",
       "      <th></th>\n",
       "      <th></th>\n",
       "    </tr>\n",
       "  </thead>\n",
       "  <tbody>\n",
       "    <tr>\n",
       "      <th>nylon</th>\n",
       "      <td>13%</td>\n",
       "      <td>0.13</td>\n",
       "      <td>1.000</td>\n",
       "    </tr>\n",
       "    <tr>\n",
       "      <th>wool</th>\n",
       "      <td>36%</td>\n",
       "      <td>0.36</td>\n",
       "      <td>2.375</td>\n",
       "    </tr>\n",
       "    <tr>\n",
       "      <th>acrylic</th>\n",
       "      <td>35%</td>\n",
       "      <td>0.35</td>\n",
       "      <td>1.500</td>\n",
       "    </tr>\n",
       "    <tr>\n",
       "      <th>elastane</th>\n",
       "      <td>1%</td>\n",
       "      <td>0.01</td>\n",
       "      <td>1.000</td>\n",
       "    </tr>\n",
       "    <tr>\n",
       "      <th>alpaca</th>\n",
       "      <td>18%</td>\n",
       "      <td>0.18</td>\n",
       "      <td>4.000</td>\n",
       "    </tr>\n",
       "  </tbody>\n",
       "</table>\n",
       "</div>"
      ],
      "text/plain": [
       "         percentage  share  score\n",
       "fiber                            \n",
       "nylon           13%   0.13  1.000\n",
       "wool            36%   0.36  2.375\n",
       "acrylic         35%   0.35  1.500\n",
       "elastane         1%   0.01  1.000\n",
       "alpaca          18%   0.18  4.000"
      ]
     },
     "execution_count": 37,
     "metadata": {},
     "output_type": "execute_result"
    }
   ],
   "source": [
    "tag_score_df = tag_info.set_index('fiber')\n",
    "tag_score_df['share'] = percentages_to_float(tag_info)\n",
    "tag_score_df['score'] = get_score(fiber_score_df, tag_info)\n",
    "tag_score_df"
   ]
  },
  {
   "cell_type": "code",
   "execution_count": 38,
   "metadata": {},
   "outputs": [
    {
     "data": {
      "text/html": [
       "<div>\n",
       "<style scoped>\n",
       "    .dataframe tbody tr th:only-of-type {\n",
       "        vertical-align: middle;\n",
       "    }\n",
       "\n",
       "    .dataframe tbody tr th {\n",
       "        vertical-align: top;\n",
       "    }\n",
       "\n",
       "    .dataframe thead th {\n",
       "        text-align: right;\n",
       "    }\n",
       "</style>\n",
       "<table border=\"1\" class=\"dataframe\">\n",
       "  <thead>\n",
       "    <tr style=\"text-align: right;\">\n",
       "      <th></th>\n",
       "      <th>percentage</th>\n",
       "      <th>share</th>\n",
       "      <th>score</th>\n",
       "      <th>sharexscore</th>\n",
       "    </tr>\n",
       "    <tr>\n",
       "      <th>fiber</th>\n",
       "      <th></th>\n",
       "      <th></th>\n",
       "      <th></th>\n",
       "      <th></th>\n",
       "    </tr>\n",
       "  </thead>\n",
       "  <tbody>\n",
       "    <tr>\n",
       "      <th>nylon</th>\n",
       "      <td>13%</td>\n",
       "      <td>0.13</td>\n",
       "      <td>1.000</td>\n",
       "      <td>0.130</td>\n",
       "    </tr>\n",
       "    <tr>\n",
       "      <th>wool</th>\n",
       "      <td>36%</td>\n",
       "      <td>0.36</td>\n",
       "      <td>2.375</td>\n",
       "      <td>0.855</td>\n",
       "    </tr>\n",
       "    <tr>\n",
       "      <th>acrylic</th>\n",
       "      <td>35%</td>\n",
       "      <td>0.35</td>\n",
       "      <td>1.500</td>\n",
       "      <td>0.525</td>\n",
       "    </tr>\n",
       "    <tr>\n",
       "      <th>elastane</th>\n",
       "      <td>1%</td>\n",
       "      <td>0.01</td>\n",
       "      <td>1.000</td>\n",
       "      <td>0.010</td>\n",
       "    </tr>\n",
       "    <tr>\n",
       "      <th>alpaca</th>\n",
       "      <td>18%</td>\n",
       "      <td>0.18</td>\n",
       "      <td>4.000</td>\n",
       "      <td>0.720</td>\n",
       "    </tr>\n",
       "  </tbody>\n",
       "</table>\n",
       "</div>"
      ],
      "text/plain": [
       "         percentage  share  score  sharexscore\n",
       "fiber                                         \n",
       "nylon           13%   0.13  1.000        0.130\n",
       "wool            36%   0.36  2.375        0.855\n",
       "acrylic         35%   0.35  1.500        0.525\n",
       "elastane         1%   0.01  1.000        0.010\n",
       "alpaca          18%   0.18  4.000        0.720"
      ]
     },
     "execution_count": 38,
     "metadata": {},
     "output_type": "execute_result"
    }
   ],
   "source": [
    "tag_score_df['sharexscore'] = tag_score_df['share'] * tag_score_df['score']\n",
    "tag_score_df"
   ]
  },
  {
   "cell_type": "code",
   "execution_count": 43,
   "metadata": {},
   "outputs": [
    {
     "data": {
      "text/plain": [
       "2.2399999999999998"
      ]
     },
     "execution_count": 43,
     "metadata": {},
     "output_type": "execute_result"
    }
   ],
   "source": [
    "tag_score_df.sum(axis = 0, skipna = True)['sharexscore']"
   ]
  },
  {
   "cell_type": "code",
   "execution_count": 48,
   "metadata": {},
   "outputs": [
    {
     "data": {
      "text/plain": [
       "2.24"
      ]
     },
     "execution_count": 48,
     "metadata": {},
     "output_type": "execute_result"
    }
   ],
   "source": [
    "sust_score = round(tag_score_df.sum(axis = 0, skipna = True)['sharexscore'],3)\n",
    "sust_score"
   ]
  },
  {
   "cell_type": "code",
   "execution_count": null,
   "metadata": {},
   "outputs": [],
   "source": []
  }
 ],
 "metadata": {
  "kernelspec": {
   "display_name": "Python 3",
   "language": "python",
   "name": "python3"
  },
  "language_info": {
   "codemirror_mode": {
    "name": "ipython",
    "version": 3
   },
   "file_extension": ".py",
   "mimetype": "text/x-python",
   "name": "python",
   "nbconvert_exporter": "python",
   "pygments_lexer": "ipython3",
   "version": "3.7.7"
  },
  "toc": {
   "base_numbering": 1,
   "nav_menu": {},
   "number_sections": true,
   "sideBar": true,
   "skip_h1_title": false,
   "title_cell": "Table of Contents",
   "title_sidebar": "Contents",
   "toc_cell": false,
   "toc_position": {},
   "toc_section_display": true,
   "toc_window_display": false
  }
 },
 "nbformat": 4,
 "nbformat_minor": 4
}
