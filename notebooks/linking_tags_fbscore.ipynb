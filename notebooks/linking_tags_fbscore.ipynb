{
 "cells": [
  {
   "cell_type": "code",
   "execution_count": 1,
   "metadata": {},
   "outputs": [],
   "source": [
    "import pytesseract\n",
    "import pandas as pd\n",
    "import numpy as np\n",
    "from PIL import Image\n",
    "import cv2\n",
    "import pandas as pd"
   ]
  },
  {
   "cell_type": "code",
   "execution_count": 2,
   "metadata": {},
   "outputs": [],
   "source": [
    "def preprocessing_image(image):\n",
    "    #image = cv2.imread('../raw_data/label_composition_images/IMG_1378.JPG')\n",
    "    grayscale = cv2.cvtColor(image, cv2.COLOR_BGR2GRAY)\n",
    "    noise = cv2.medianBlur(grayscale,5)\n",
    "    #threshold = cv2.threshold(noise, 0, 255, cv2.THRESH_BINARY + cv2.THRESH_OTSU)[1]\n",
    "    #threshold doesn't really work\n",
    "\n",
    "    #dilation\n",
    "    kernel = np.ones((5,5),np.uint8)\n",
    "    dilate = cv2.dilate(noise, kernel, iterations = 1)\n",
    "\n",
    "    #erosion\n",
    "\n",
    "    kernel = np.ones((5,5),np.uint8)\n",
    "    erode= cv2.erode(dilate, kernel, iterations = 1)\n",
    "\n",
    "    #opening - erosion followed by dilation\n",
    "    #definition opening(image):\n",
    "    #kernel = np.ones((5,5),np.uint8)\n",
    "    #return cv2.morphologyEx(image, cv2.MORPH_OPEN, kernel)\n",
    "\n",
    "    #canny edge detection\n",
    "\n",
    "    #canny = cv2.Canny(threshold, 100, 200)\n",
    "\n",
    "    #skew correction\n",
    "    #definition deskew(image):\n",
    "    coords = np.column_stack(np.where(erode > 0))\n",
    "    angle = cv2.minAreaRect(coords)[-1]\n",
    "    if angle < -45:\n",
    "        angle = -(90 + angle)\n",
    "    else:\n",
    "        angle = -angle\n",
    "    (h, w) = erode.shape[:2]\n",
    "    center = (w // 2, h // 2)\n",
    "    M = cv2.getRotationMatrix2D(center, angle, 1.0)\n",
    "    deskew = cv2.warpAffine(erode, M, (w, h), flags=cv2.INTER_CUBIC, borderMode=cv2.BORDER_REPLICATE)\n",
    "\n",
    "\n",
    "    #template matching\n",
    "    #definition match_template(image, template):\n",
    "    #return cv2.matchTemplate(image, template, cv2.TM_CCOEFF_NORMED)\n",
    "\n",
    "    #definition sharp(image):\n",
    "    #sharp= cv2.bilateralFilter(deskew,9,75,75)\n",
    "    return deskew"
   ]
  },
  {
   "cell_type": "code",
   "execution_count": 3,
   "metadata": {},
   "outputs": [],
   "source": [
    "def image_to_string(image):\n",
    "    \n",
    "    preprocessed = preprocessing_image(image)\n",
    "   \n",
    "        #img = Image.fromarray(preprocessed, 'RGB')\n",
    "    results = pytesseract.image_to_string(preprocessed)\n",
    "    return results"
   ]
  },
  {
   "cell_type": "code",
   "execution_count": 4,
   "metadata": {},
   "outputs": [],
   "source": [
    "image = cv2.imread('../raw_data/label_composition_images/IMG_1378.JPG')"
   ]
  },
  {
   "cell_type": "code",
   "execution_count": 5,
   "metadata": {},
   "outputs": [
    {
     "data": {
      "text/plain": [
       "'  \\n\\nGB: Shell fabric1:100% polyester\\nrecycled\\n\\nLining: 100% polyester recycled\\nPadding: 100% recycled content\\nNL: Bovenstoft: 100% polyester\\ngerecyciede\\n\\nVoering: 100% polyester serecyelade\\nVulling: 100% geracyclede inhoud\\n\\nDE: Oberstofft: 100% Polyester reeyveett\\nFutter: 100% Polyester recyceit\\nWattierung: 100% recycelt Inhalt\\n\\nFR: Etoffe extéricuret: 100%\\npolyester recycle\\n\\nDoublura: 100% polyester recycle\\nRemplissage: 100% recyclé content\\n\\n——_- —-\\n\\n \\n\\n \\n\\x0c'"
      ]
     },
     "execution_count": 5,
     "metadata": {},
     "output_type": "execute_result"
    }
   ],
   "source": [
    "ocr_result = image_to_string(image)\n",
    "ocr_result"
   ]
  },
  {
   "cell_type": "code",
   "execution_count": 6,
   "metadata": {},
   "outputs": [
    {
     "data": {
      "text/plain": [
       "['  ',\n",
       " '',\n",
       " 'GB: Shell fabric1:100% polyester',\n",
       " 'recycled',\n",
       " '',\n",
       " 'Lining: 100% polyester recycled',\n",
       " 'Padding: 100% recycled content',\n",
       " 'NL: Bovenstoft: 100% polyester',\n",
       " 'gerecyciede',\n",
       " '',\n",
       " 'Voering: 100% polyester serecyelade',\n",
       " 'Vulling: 100% geracyclede inhoud',\n",
       " '',\n",
       " 'DE: Oberstofft: 100% Polyester reeyveett',\n",
       " 'Futter: 100% Polyester recyceit',\n",
       " 'Wattierung: 100% recycelt Inhalt',\n",
       " '',\n",
       " 'FR: Etoffe extéricuret: 100%',\n",
       " 'polyester recycle',\n",
       " '',\n",
       " 'Doublura: 100% polyester recycle',\n",
       " 'Remplissage: 100% recyclé content',\n",
       " '',\n",
       " '——_- —-',\n",
       " '',\n",
       " ' ',\n",
       " '',\n",
       " ' ',\n",
       " '']"
      ]
     },
     "execution_count": 6,
     "metadata": {},
     "output_type": "execute_result"
    }
   ],
   "source": [
    "ocr_splitted = ocr_result.splitlines()\n",
    "ocr_splitted"
   ]
  },
  {
   "cell_type": "code",
   "execution_count": 7,
   "metadata": {},
   "outputs": [
    {
     "data": {
      "text/plain": [
       "['mechanically recycled nylon',\n",
       " 'mechanically recycled polyester',\n",
       " 'recycled nylon',\n",
       " 'nylon recycled',\n",
       " 'recycled polyester',\n",
       " 'polyester recycled',\n",
       " 'organic linen',\n",
       " 'linen organic',\n",
       " 'organic hemp',\n",
       " 'hemp organic',\n",
       " 'recycled cotton',\n",
       " 'cotton recycled',\n",
       " 'recycled wool',\n",
       " 'wool recycled',\n",
       " 'chemically recycled nylon',\n",
       " 'chemically recycled polyester',\n",
       " 'crailar',\n",
       " 'in conversion cotton',\n",
       " 'cotton in conversion',\n",
       " 'monocel',\n",
       " 'organic cotton',\n",
       " 'cotton organic',\n",
       " 'tencel',\n",
       " 'linen',\n",
       " 'hemp',\n",
       " 'pla',\n",
       " 'ramie',\n",
       " 'modal lenzing viscose',\n",
       " 'modal',\n",
       " 'lenzing',\n",
       " 'poly-acrylic',\n",
       " 'polyester',\n",
       " 'bamboo viscose',\n",
       " 'cotton',\n",
       " 'viscose',\n",
       " 'rayon',\n",
       " 'spandex',\n",
       " 'elastane',\n",
       " 'nylon',\n",
       " 'wool',\n",
       " 'acetate',\n",
       " 'alpaca',\n",
       " 'cashmere',\n",
       " 'leather',\n",
       " 'mohair',\n",
       " 'bamboo',\n",
       " 'organic wool',\n",
       " 'wool organic',\n",
       " 'silk',\n",
       " 'banana',\n",
       " 'cork',\n",
       " 'jute',\n",
       " 'nettle',\n",
       " 'sisal',\n",
       " 'spanish broom',\n",
       " 'abaca',\n",
       " 'crab shell',\n",
       " 'lyocell',\n",
       " 'coconut choir',\n",
       " 'kapok',\n",
       " 'ramie',\n",
       " 'feathers',\n",
       " 'feather',\n",
       " 'orange fibre',\n",
       " 'apple leather',\n",
       " 'grape leather',\n",
       " 'pineapple leather',\n",
       " 'soy bean',\n",
       " 'rubber',\n",
       " 'angora',\n",
       " 'casein',\n",
       " 'elastothane',\n",
       " 'polyamide',\n",
       " 'polyethylene',\n",
       " 'synthetic leather',\n",
       " 'leather synthetic',\n",
       " 'polytrimethylene',\n",
       " 'teraphtalate']"
      ]
     },
     "execution_count": 7,
     "metadata": {},
     "output_type": "execute_result"
    }
   ],
   "source": [
    "fb3_keys = pd.read_csv('../eco_fashion_project/data/fibre_cleanedx3.csv')\n",
    "fibres_list = fb3_keys['Material'].tolist()\n",
    "fibres_list"
   ]
  },
  {
   "cell_type": "code",
   "execution_count": 8,
   "metadata": {},
   "outputs": [
    {
     "data": {
      "text/plain": [
       "[['polyester recycled', ['Lining: 100% polyester recycled']],\n",
       " ['polyester',\n",
       "  ['GB: Shell fabric1:100% polyester',\n",
       "   'Lining: 100% polyester recycled',\n",
       "   'NL: Bovenstoft: 100% polyester',\n",
       "   'Voering: 100% polyester serecyelade',\n",
       "   'polyester recycle',\n",
       "   'Doublura: 100% polyester recycle']]]"
      ]
     },
     "execution_count": 8,
     "metadata": {},
     "output_type": "execute_result"
    }
   ],
   "source": [
    "all_matches = []\n",
    "for fibre in fibres_list:\n",
    "    matching = [s for s in ocr_splitted if fibre in s]\n",
    "    if matching:\n",
    "        matched = [fibre, matching]\n",
    "        all_matches.append(matched)\n",
    "all_matches"
   ]
  },
  {
   "cell_type": "code",
   "execution_count": 9,
   "metadata": {},
   "outputs": [
    {
     "data": {
      "text/plain": [
       "0    polyester recycled\n",
       "1             polyester\n",
       "Name: 0, dtype: object"
      ]
     },
     "execution_count": 9,
     "metadata": {},
     "output_type": "execute_result"
    }
   ],
   "source": [
    "all_matches_df = pd.DataFrame(all_matches)\n",
    "all_matches_df[0]"
   ]
  },
  {
   "cell_type": "code",
   "execution_count": 10,
   "metadata": {},
   "outputs": [
    {
     "data": {
      "text/plain": [
       "'polyester recycled'"
      ]
     },
     "execution_count": 10,
     "metadata": {},
     "output_type": "execute_result"
    }
   ],
   "source": [
    "max(all_matches_df[0], key=len)"
   ]
  },
  {
   "cell_type": "code",
   "execution_count": 11,
   "metadata": {},
   "outputs": [],
   "source": [
    "multi_fb_list = ['nylon', 'polyester', 'linen', 'hemp', 'cotton', 'wool', 'viscose', 'leather']"
   ]
  },
  {
   "cell_type": "code",
   "execution_count": 16,
   "metadata": {},
   "outputs": [
    {
     "data": {
      "text/plain": [
       "pandas.core.series.Series"
      ]
     },
     "execution_count": 16,
     "metadata": {},
     "output_type": "execute_result"
    }
   ],
   "source": [
    "type(all_matches_df[0])"
   ]
  },
  {
   "cell_type": "code",
   "execution_count": 17,
   "metadata": {},
   "outputs": [
    {
     "data": {
      "text/plain": [
       "0    False\n",
       "1     True\n",
       "Name: 0, dtype: bool"
      ]
     },
     "execution_count": 17,
     "metadata": {},
     "output_type": "execute_result"
    }
   ],
   "source": [
    "all_matches_df[0].isin(['polyester'])"
   ]
  },
  {
   "cell_type": "code",
   "execution_count": 18,
   "metadata": {},
   "outputs": [
    {
     "data": {
      "text/plain": [
       "['mechanically recycled polyester',\n",
       " 'recycled polyester',\n",
       " 'polyester recycled',\n",
       " 'chemically recycled polyester',\n",
       " 'polyester']"
      ]
     },
     "execution_count": 18,
     "metadata": {},
     "output_type": "execute_result"
    }
   ],
   "source": [
    "#for fibre in multi_fb_list:\n",
    "#    multi_matching = [s for s in all_matches_df[0] if fibre in s]\n",
    "\n",
    "polyester_group = [s for s in fibres_list if \"polyester\" in s]\n",
    "polyester_group"
   ]
  },
  {
   "cell_type": "code",
   "execution_count": 23,
   "metadata": {},
   "outputs": [
    {
     "data": {
      "text/plain": [
       "0    True\n",
       "1    True\n",
       "Name: 0, dtype: bool"
      ]
     },
     "execution_count": 23,
     "metadata": {},
     "output_type": "execute_result"
    }
   ],
   "source": [
    "all_matches_df[0].isin(polyester_group)"
   ]
  },
  {
   "cell_type": "code",
   "execution_count": 25,
   "metadata": {},
   "outputs": [
    {
     "data": {
      "text/html": [
       "<div>\n",
       "<style scoped>\n",
       "    .dataframe tbody tr th:only-of-type {\n",
       "        vertical-align: middle;\n",
       "    }\n",
       "\n",
       "    .dataframe tbody tr th {\n",
       "        vertical-align: top;\n",
       "    }\n",
       "\n",
       "    .dataframe thead th {\n",
       "        text-align: right;\n",
       "    }\n",
       "</style>\n",
       "<table border=\"1\" class=\"dataframe\">\n",
       "  <thead>\n",
       "    <tr style=\"text-align: right;\">\n",
       "      <th></th>\n",
       "      <th>0</th>\n",
       "      <th>1</th>\n",
       "    </tr>\n",
       "  </thead>\n",
       "  <tbody>\n",
       "    <tr>\n",
       "      <th>0</th>\n",
       "      <td>polyester recycled</td>\n",
       "      <td>[Lining: 100% polyester recycled]</td>\n",
       "    </tr>\n",
       "    <tr>\n",
       "      <th>1</th>\n",
       "      <td>polyester</td>\n",
       "      <td>[GB: Shell fabric1:100% polyester, Lining: 100...</td>\n",
       "    </tr>\n",
       "  </tbody>\n",
       "</table>\n",
       "</div>"
      ],
      "text/plain": [
       "                    0                                                  1\n",
       "0  polyester recycled                  [Lining: 100% polyester recycled]\n",
       "1           polyester  [GB: Shell fabric1:100% polyester, Lining: 100..."
      ]
     },
     "execution_count": 25,
     "metadata": {},
     "output_type": "execute_result"
    }
   ],
   "source": [
    "all_matches_df[all_matches_df[0].isin(polyester_group)]"
   ]
  },
  {
   "cell_type": "code",
   "execution_count": 29,
   "metadata": {},
   "outputs": [
    {
     "data": {
      "text/html": [
       "<div>\n",
       "<style scoped>\n",
       "    .dataframe tbody tr th:only-of-type {\n",
       "        vertical-align: middle;\n",
       "    }\n",
       "\n",
       "    .dataframe tbody tr th {\n",
       "        vertical-align: top;\n",
       "    }\n",
       "\n",
       "    .dataframe thead th {\n",
       "        text-align: right;\n",
       "    }\n",
       "</style>\n",
       "<table border=\"1\" class=\"dataframe\">\n",
       "  <thead>\n",
       "    <tr style=\"text-align: right;\">\n",
       "      <th></th>\n",
       "      <th>1</th>\n",
       "    </tr>\n",
       "    <tr>\n",
       "      <th>0</th>\n",
       "      <th></th>\n",
       "    </tr>\n",
       "  </thead>\n",
       "  <tbody>\n",
       "    <tr>\n",
       "      <th>polyester recycled</th>\n",
       "      <td>[Lining: 100% polyester recycled]</td>\n",
       "    </tr>\n",
       "    <tr>\n",
       "      <th>polyester</th>\n",
       "      <td>[GB: Shell fabric1:100% polyester, Lining: 100...</td>\n",
       "    </tr>\n",
       "  </tbody>\n",
       "</table>\n",
       "</div>"
      ],
      "text/plain": [
       "                                                                    1\n",
       "0                                                                    \n",
       "polyester recycled                  [Lining: 100% polyester recycled]\n",
       "polyester           [GB: Shell fabric1:100% polyester, Lining: 100..."
      ]
     },
     "execution_count": 29,
     "metadata": {},
     "output_type": "execute_result"
    }
   ],
   "source": [
    "ind_all_matches_df = all_matches_df.set_index(0)\n",
    "ind_all_matches_df"
   ]
  },
  {
   "cell_type": "code",
   "execution_count": 57,
   "metadata": {
    "scrolled": true
   },
   "outputs": [
    {
     "data": {
      "text/plain": [
       "['Lining: 100% polyester recycled']"
      ]
     },
     "execution_count": 57,
     "metadata": {},
     "output_type": "execute_result"
    }
   ],
   "source": [
    "ind_all_matches_df.loc['polyester recycled'][1]"
   ]
  },
  {
   "cell_type": "code",
   "execution_count": 58,
   "metadata": {},
   "outputs": [
    {
     "data": {
      "text/plain": [
       "['Lining: 100% polyester recycled']"
      ]
     },
     "execution_count": 58,
     "metadata": {},
     "output_type": "execute_result"
    }
   ],
   "source": [
    "ind_all_matches_df.loc[max(all_matches_df[0][all_matches_df[0].isin(polyester_group)], key=len)][1]"
   ]
  },
  {
   "cell_type": "code",
   "execution_count": 59,
   "metadata": {},
   "outputs": [
    {
     "data": {
      "text/plain": [
       "list"
      ]
     },
     "execution_count": 59,
     "metadata": {},
     "output_type": "execute_result"
    }
   ],
   "source": [
    "int_tags = ind_all_matches_df.loc[max(all_matches_df[0][all_matches_df[0].isin(polyester_group)], key=len)][1]\n",
    "type(int_tags)"
   ]
  },
  {
   "cell_type": "code",
   "execution_count": 51,
   "metadata": {},
   "outputs": [
    {
     "data": {
      "text/plain": [
       "'100%'"
      ]
     },
     "execution_count": 51,
     "metadata": {},
     "output_type": "execute_result"
    }
   ],
   "source": [
    "import re\n",
    "percent = re.search(r'((\\d+)[%])','Lining: 100% polyester recycled')\n",
    "percent.group(0)"
   ]
  },
  {
   "cell_type": "code",
   "execution_count": 60,
   "metadata": {},
   "outputs": [
    {
     "data": {
      "text/plain": [
       "'100%'"
      ]
     },
     "execution_count": 60,
     "metadata": {},
     "output_type": "execute_result"
    }
   ],
   "source": [
    "percentage = re.search(r'((\\d+)[%])',int_tags[0])\n",
    "percentage.group(0)"
   ]
  },
  {
   "cell_type": "code",
   "execution_count": 61,
   "metadata": {},
   "outputs": [
    {
     "name": "stdout",
     "output_type": "stream",
     "text": [
      "['mechanically recycled nylon', 'recycled nylon', 'nylon recycled', 'chemically recycled nylon', 'nylon']\n",
      "['organic linen', 'linen organic', 'linen']\n",
      "['organic hemp', 'hemp organic', 'hemp']\n",
      "['recycled cotton', 'cotton recycled', 'in conversion cotton', 'cotton in conversion', 'organic cotton', 'cotton organic', 'cotton']\n",
      "['recycled wool', 'wool recycled', 'wool', 'organic wool', 'wool organic']\n",
      "['modal lenzing viscose', 'bamboo viscose', 'viscose']\n",
      "['leather', 'apple leather', 'grape leather', 'pineapple leather', 'synthetic leather', 'leather synthetic']\n"
     ]
    }
   ],
   "source": [
    "nylon_group = [s for s in fibres_list if \"nylon\" in s]\n",
    "print(nylon_group)\n",
    "linen_group = [s for s in fibres_list if \"linen\" in s]\n",
    "print(linen_group)\n",
    "hemp_group = [s for s in fibres_list if \"hemp\" in s]\n",
    "print(hemp_group)\n",
    "cotton_group = [s for s in fibres_list if \"cotton\" in s]\n",
    "print(cotton_group)\n",
    "wool_group = [s for s in fibres_list if \"wool\" in s]\n",
    "print(wool_group)\n",
    "viscose_group = [s for s in fibres_list if \"viscose\" in s]\n",
    "print(viscose_group)\n",
    "leather_group = [s for s in fibres_list if \"leather\" in s]\n",
    "print(leather_group)"
   ]
  },
  {
   "cell_type": "code",
   "execution_count": 63,
   "metadata": {},
   "outputs": [],
   "source": [
    "multi_fb_group_list = [nylon_group, polyester_group, linen_group, hemp_group, cotton_group, wool_group, viscose_group, leather_group]"
   ]
  },
  {
   "cell_type": "code",
   "execution_count": 79,
   "metadata": {},
   "outputs": [
    {
     "name": "stdout",
     "output_type": "stream",
     "text": [
      "0    polyester recycled\n",
      "1             polyester\n",
      "Name: 0, dtype: object\n",
      "['mechanically recycled nylon', 'recycled nylon', 'nylon recycled', 'chemically recycled nylon', 'nylon']\n",
      "0    False\n",
      "1    False\n",
      "Name: 0, dtype: bool\n",
      "nothing will be done\n"
     ]
    }
   ],
   "source": [
    "#for group in multi_fb_group_list:\n",
    "print(all_matches_df[0])\n",
    "print(nylon_group)\n",
    "print(all_matches_df[0].isin(['mechanically recycled nylon', 'recycled nylon', 'nylon recycled', 'chemically recycled nylon', 'nylon']))\n",
    "if all_matches_df[0].isin(nylon_group).any() == False:\n",
    "    print(\"nothing will be done\")\n",
    "else:\n",
    "    print(\"in nylon group\")"
   ]
  },
  {
   "cell_type": "code",
   "execution_count": 81,
   "metadata": {},
   "outputs": [
    {
     "name": "stdout",
     "output_type": "stream",
     "text": [
      "fiber: polyester recycled\n",
      "interesting tag lines: ['Lining: 100% polyester recycled']\n",
      "percentage: 100%\n"
     ]
    }
   ],
   "source": [
    "if all_matches_df[0].isin(polyester_group).any() == True:\n",
    "    fb_key = max(all_matches_df[0][all_matches_df[0].isin(polyester_group)], key=len)\n",
    "    print(f\"fiber: {fb_key}\")\n",
    "    int_tag_lines = ind_all_matches_df.loc[fb_key][1]\n",
    "    print(f\"interesting tag lines: {int_tag_lines}\")\n",
    "    pt = re.search(r'((\\d+)[%])',int_tag_lines[0])\n",
    "    pct = pt.group(0)\n",
    "    print(f\"percentage: {pct}\")"
   ]
  },
  {
   "cell_type": "code",
   "execution_count": 82,
   "metadata": {},
   "outputs": [],
   "source": [
    "if all_matches_df[0].isin(nylon_group).any() == True:\n",
    "    fb_key = max(all_matches_df[0][all_matches_df[0].isin(nylon_group)], key=len)\n",
    "    print(f\"fiber: {fb_key}\")\n",
    "    int_tag_lines = ind_all_matches_df.loc[fb_key][1]\n",
    "    print(f\"interesting tag lines: {int_tag_lines}\")\n",
    "    pt = re.search(r'((\\d+)[%])',int_tag_lines[0])\n",
    "    pct = pt.group(0)\n",
    "    print(f\"percentage: {pct}\")"
   ]
  },
  {
   "cell_type": "code",
   "execution_count": 88,
   "metadata": {},
   "outputs": [
    {
     "name": "stdout",
     "output_type": "stream",
     "text": [
      "fiber: polyester recycled\n",
      "interesting tag lines: ['Lining: 100% polyester recycled']\n",
      "percentage: 100%\n"
     ]
    },
    {
     "data": {
      "text/html": [
       "<div>\n",
       "<style scoped>\n",
       "    .dataframe tbody tr th:only-of-type {\n",
       "        vertical-align: middle;\n",
       "    }\n",
       "\n",
       "    .dataframe tbody tr th {\n",
       "        vertical-align: top;\n",
       "    }\n",
       "\n",
       "    .dataframe thead th {\n",
       "        text-align: right;\n",
       "    }\n",
       "</style>\n",
       "<table border=\"1\" class=\"dataframe\">\n",
       "  <thead>\n",
       "    <tr style=\"text-align: right;\">\n",
       "      <th></th>\n",
       "      <th>fiber</th>\n",
       "      <th>percentage</th>\n",
       "    </tr>\n",
       "  </thead>\n",
       "  <tbody>\n",
       "    <tr>\n",
       "      <th>0</th>\n",
       "      <td>polyester recycled</td>\n",
       "      <td>100%</td>\n",
       "    </tr>\n",
       "  </tbody>\n",
       "</table>\n",
       "</div>"
      ],
      "text/plain": [
       "                fiber percentage\n",
       "0  polyester recycled       100%"
      ]
     },
     "execution_count": 88,
     "metadata": {},
     "output_type": "execute_result"
    }
   ],
   "source": [
    "tag_info = pd.DataFrame(columns = [\"fiber\", \"percentage\"])\n",
    "\n",
    "for group in multi_fb_group_list:\n",
    "    if all_matches_df[0].isin(group).any() == True:\n",
    "        fb_key = max(all_matches_df[0][all_matches_df[0].isin(group)], key=len)\n",
    "        print(f\"fiber: {fb_key}\")\n",
    "        int_tag_lines = ind_all_matches_df.loc[fb_key][1]\n",
    "        print(f\"interesting tag lines: {int_tag_lines}\")\n",
    "        pt = re.search(r'((\\d+)[%])',int_tag_lines[0])\n",
    "        pct = pt.group(0)\n",
    "        print(f\"percentage: {pct}\")\n",
    "        tag_info.loc[len(tag_info)] = [fb_key,pct]\n",
    "        #tag_info.append({'fiber': fb_key, 'percentage': pct}, ignore_index=True)\n",
    "\n",
    "tag_info"
   ]
  },
  {
   "cell_type": "code",
   "execution_count": 97,
   "metadata": {},
   "outputs": [
    {
     "data": {
      "text/plain": [
       "['crailar',\n",
       " 'monocel',\n",
       " 'tencel',\n",
       " 'pla',\n",
       " 'ramie',\n",
       " 'modal',\n",
       " 'lenzing',\n",
       " 'poly-acrylic',\n",
       " 'rayon',\n",
       " 'spandex',\n",
       " 'elastane',\n",
       " 'acetate',\n",
       " 'alpaca',\n",
       " 'cashmere',\n",
       " 'mohair',\n",
       " 'bamboo',\n",
       " 'silk',\n",
       " 'banana',\n",
       " 'cork',\n",
       " 'jute',\n",
       " 'nettle',\n",
       " 'sisal',\n",
       " 'spanish broom',\n",
       " 'abaca',\n",
       " 'crab shell',\n",
       " 'lyocell',\n",
       " 'coconut choir',\n",
       " 'kapok',\n",
       " 'ramie',\n",
       " 'feathers',\n",
       " 'feather',\n",
       " 'orange fibre',\n",
       " 'soy bean',\n",
       " 'rubber',\n",
       " 'angora',\n",
       " 'casein',\n",
       " 'elastothane',\n",
       " 'polyamide',\n",
       " 'polyethylene',\n",
       " 'polytrimethylene',\n",
       " 'teraphtalate']"
      ]
     },
     "execution_count": 97,
     "metadata": {},
     "output_type": "execute_result"
    }
   ],
   "source": [
    "rest_group = fibres_list\n",
    "for group in multi_fb_group_list:\n",
    "    rest_group = [s for s in rest_group if s not in group]\n",
    "\n",
    "rest_group"
   ]
  },
  {
   "cell_type": "code",
   "execution_count": 98,
   "metadata": {},
   "outputs": [
    {
     "data": {
      "text/html": [
       "<div>\n",
       "<style scoped>\n",
       "    .dataframe tbody tr th:only-of-type {\n",
       "        vertical-align: middle;\n",
       "    }\n",
       "\n",
       "    .dataframe tbody tr th {\n",
       "        vertical-align: top;\n",
       "    }\n",
       "\n",
       "    .dataframe thead th {\n",
       "        text-align: right;\n",
       "    }\n",
       "</style>\n",
       "<table border=\"1\" class=\"dataframe\">\n",
       "  <thead>\n",
       "    <tr style=\"text-align: right;\">\n",
       "      <th></th>\n",
       "      <th>fiber</th>\n",
       "      <th>percentage</th>\n",
       "    </tr>\n",
       "  </thead>\n",
       "  <tbody>\n",
       "    <tr>\n",
       "      <th>0</th>\n",
       "      <td>polyester recycled</td>\n",
       "      <td>100%</td>\n",
       "    </tr>\n",
       "  </tbody>\n",
       "</table>\n",
       "</div>"
      ],
      "text/plain": [
       "                fiber percentage\n",
       "0  polyester recycled       100%"
      ]
     },
     "execution_count": 98,
     "metadata": {},
     "output_type": "execute_result"
    }
   ],
   "source": [
    "if all_matches_df[0].isin(rest_group).any() == True:\n",
    "    for match in all_matches_df[all_matches_df[0].isin(rest_group)]:\n",
    "        fb_key = match[0]\n",
    "        print(f\"fiber: {fb_key}\")\n",
    "        int_tag_lines = match[1]\n",
    "        print(f\"interesting tag lines: {int_tag_lines}\")\n",
    "        pt = re.search(r'((\\d+)[%])',int_tag_lines[0])\n",
    "        pct = pt.group(0)\n",
    "        print(f\"percentage: {pct}\")\n",
    "        tag_info.loc[len(tag_info)] = [fb_key,pct]\n",
    "tag_info"
   ]
  },
  {
   "cell_type": "markdown",
   "metadata": {},
   "source": [
    "# Test with WINNER :)"
   ]
  },
  {
   "cell_type": "code",
   "execution_count": 99,
   "metadata": {},
   "outputs": [],
   "source": [
    "image2 = cv2.imread('../raw_data/label_composition_images/IMG_1388.JPG')"
   ]
  },
  {
   "cell_type": "code",
   "execution_count": 100,
   "metadata": {},
   "outputs": [
    {
     "data": {
      "text/plain": [
       "\"Aw’'1g 08/19\\n\\n36% Lana / Wool / Wolle / Laine /\\nLana/ Ls\\n\\n35% Acrilica f Acrytie | Polyacryl /\\nActylique / Actilicg / Aerflico\\n\\n18% Alpaca / Alpaca / Alpaka /\\nAlpaga / Alnaca / Alpaca\\n\\n13% Poliamida / Nylon / Polyamid /\\nFolyamide / Poliammidica / Polyamide\\n\\n1% Elastano / Elastane / Elasthan /\\nElasthanne / Elastan / Elastano\\n\\nWAR ARE\\n\\nLAVAR AMANO - NO DEJAR OC\\nNO USAR LEJIA BN REM\\n\\nNO UTILIZAR SECADORA\\n\\nPLANCKAR A TEMPERATURA BAJA\\n\\nMAX. 14%C\\n\\nNO LIMPIAR EN SECO\\n\\nLAVAR DEL REVES\\n\\nPLANCHAR DEL REVES\\n\\nSECAR =N PLANO\\n\\n—_=---\\n\\x0c\""
      ]
     },
     "execution_count": 100,
     "metadata": {},
     "output_type": "execute_result"
    }
   ],
   "source": [
    "ocr_result2 = image_to_string(image2)\n",
    "ocr_result2"
   ]
  },
  {
   "cell_type": "code",
   "execution_count": 101,
   "metadata": {},
   "outputs": [
    {
     "data": {
      "text/plain": [
       "[\"Aw’'1g 08/19\",\n",
       " '',\n",
       " '36% Lana / Wool / Wolle / Laine /',\n",
       " 'Lana/ Ls',\n",
       " '',\n",
       " '35% Acrilica f Acrytie | Polyacryl /',\n",
       " 'Actylique / Actilicg / Aerflico',\n",
       " '',\n",
       " '18% Alpaca / Alpaca / Alpaka /',\n",
       " 'Alpaga / Alnaca / Alpaca',\n",
       " '',\n",
       " '13% Poliamida / Nylon / Polyamid /',\n",
       " 'Folyamide / Poliammidica / Polyamide',\n",
       " '',\n",
       " '1% Elastano / Elastane / Elasthan /',\n",
       " 'Elasthanne / Elastan / Elastano',\n",
       " '',\n",
       " 'WAR ARE',\n",
       " '',\n",
       " 'LAVAR AMANO - NO DEJAR OC',\n",
       " 'NO USAR LEJIA BN REM',\n",
       " '',\n",
       " 'NO UTILIZAR SECADORA',\n",
       " '',\n",
       " 'PLANCKAR A TEMPERATURA BAJA',\n",
       " '',\n",
       " 'MAX. 14%C',\n",
       " '',\n",
       " 'NO LIMPIAR EN SECO',\n",
       " '',\n",
       " 'LAVAR DEL REVES',\n",
       " '',\n",
       " 'PLANCHAR DEL REVES',\n",
       " '',\n",
       " 'SECAR =N PLANO',\n",
       " '',\n",
       " '—_=---',\n",
       " '']"
      ]
     },
     "execution_count": 101,
     "metadata": {},
     "output_type": "execute_result"
    }
   ],
   "source": [
    "ocr_splitted2 = ocr_result2.splitlines()\n",
    "ocr_splitted2"
   ]
  },
  {
   "cell_type": "code",
   "execution_count": 102,
   "metadata": {},
   "outputs": [
    {
     "data": {
      "text/plain": [
       "['mechanically recycled nylon',\n",
       " 'mechanically recycled polyester',\n",
       " 'recycled nylon',\n",
       " 'nylon recycled',\n",
       " 'recycled polyester',\n",
       " 'polyester recycled',\n",
       " 'organic linen',\n",
       " 'linen organic',\n",
       " 'organic hemp',\n",
       " 'hemp organic',\n",
       " 'recycled cotton',\n",
       " 'cotton recycled',\n",
       " 'recycled wool',\n",
       " 'wool recycled',\n",
       " 'chemically recycled nylon',\n",
       " 'chemically recycled polyester',\n",
       " 'crailar',\n",
       " 'in conversion cotton',\n",
       " 'cotton in conversion',\n",
       " 'monocel',\n",
       " 'organic cotton',\n",
       " 'cotton organic',\n",
       " 'tencel',\n",
       " 'linen',\n",
       " 'hemp',\n",
       " 'pla polylactide',\n",
       " 'ramie',\n",
       " 'modal lenzing viscose',\n",
       " 'modal',\n",
       " 'lenzing',\n",
       " 'acrylic',\n",
       " 'polyacrylic',\n",
       " 'polyester',\n",
       " 'bamboo viscose',\n",
       " 'cotton',\n",
       " 'viscose',\n",
       " 'rayon',\n",
       " 'spandex',\n",
       " 'elastane',\n",
       " 'nylon',\n",
       " 'wool',\n",
       " 'acetate',\n",
       " 'alpaca',\n",
       " 'cashmere',\n",
       " 'leather',\n",
       " 'mohair',\n",
       " 'bamboo',\n",
       " 'organic wool',\n",
       " 'wool organic',\n",
       " 'silk',\n",
       " 'banana',\n",
       " 'cork',\n",
       " 'jute',\n",
       " 'nettle',\n",
       " 'sisal',\n",
       " 'spanish broom',\n",
       " 'abaca',\n",
       " 'crab shell',\n",
       " 'lyocell',\n",
       " 'coconut choir',\n",
       " 'kapok',\n",
       " 'ramie',\n",
       " 'feathers',\n",
       " 'feather',\n",
       " 'orange fibre',\n",
       " 'apple leather',\n",
       " 'grape leather',\n",
       " 'pineapple leather',\n",
       " 'soy bean',\n",
       " 'rubber',\n",
       " 'angora',\n",
       " 'casein',\n",
       " 'elastothane',\n",
       " 'polyamide',\n",
       " 'polyethylene',\n",
       " 'synthetic leather',\n",
       " 'leather synthetic',\n",
       " 'polytrimethylene',\n",
       " 'teraphtalate']"
      ]
     },
     "execution_count": 102,
     "metadata": {},
     "output_type": "execute_result"
    }
   ],
   "source": [
    "fb4_keys = pd.read_csv('../eco_fashion_project/data/fibre_cleanedx4.csv')\n",
    "fibres_list = fb4_keys['Material'].tolist()\n",
    "fibres_list"
   ]
  },
  {
   "cell_type": "code",
   "execution_count": 103,
   "metadata": {},
   "outputs": [
    {
     "data": {
      "text/plain": [
       "79"
      ]
     },
     "execution_count": 103,
     "metadata": {},
     "output_type": "execute_result"
    }
   ],
   "source": [
    "len(fibres_list)"
   ]
  },
  {
   "cell_type": "code",
   "execution_count": 121,
   "metadata": {},
   "outputs": [
    {
     "name": "stdout",
     "output_type": "stream",
     "text": [
      "['mechanically recycled nylon', 'recycled nylon', 'nylon recycled', 'chemically recycled nylon', 'nylon', 'polyamide']\n",
      "['mechanically recycled polyester', 'recycled polyester', 'polyester recycled', 'chemically recycled polyester', 'polyester']\n",
      "['organic linen', 'linen organic', 'linen']\n",
      "['organic hemp', 'hemp organic', 'hemp']\n",
      "['recycled cotton', 'cotton recycled', 'in conversion cotton', 'cotton in conversion', 'organic cotton', 'cotton organic', 'cotton']\n",
      "['recycled wool', 'wool recycled', 'wool', 'organic wool', 'wool organic']\n",
      "['modal lenzing viscose', 'bamboo viscose', 'viscose']\n",
      "['leather', 'apple leather', 'grape leather', 'pineapple leather', 'synthetic leather', 'leather synthetic']\n"
     ]
    }
   ],
   "source": [
    "nylon_group = [s for s in fibres_list if \"nylon\" in s or \"polyamide\" in s]\n",
    "print(nylon_group)\n",
    "polyester_group = [s for s in fibres_list if \"polyester\" in s]\n",
    "print(polyester_group)\n",
    "linen_group = [s for s in fibres_list if \"linen\" in s]\n",
    "print(linen_group)\n",
    "hemp_group = [s for s in fibres_list if \"hemp\" in s]\n",
    "print(hemp_group)\n",
    "cotton_group = [s for s in fibres_list if \"cotton\" in s]\n",
    "print(cotton_group)\n",
    "wool_group = [s for s in fibres_list if \"wool\" in s]\n",
    "print(wool_group)\n",
    "viscose_group = [s for s in fibres_list if \"viscose\" in s]\n",
    "print(viscose_group)\n",
    "leather_group = [s for s in fibres_list if \"leather\" in s]\n",
    "print(leather_group)"
   ]
  },
  {
   "cell_type": "code",
   "execution_count": 123,
   "metadata": {},
   "outputs": [],
   "source": [
    "multi_fb_group_list = [nylon_group, polyester_group, linen_group, hemp_group, cotton_group, wool_group, viscose_group, leather_group]"
   ]
  },
  {
   "cell_type": "code",
   "execution_count": 124,
   "metadata": {},
   "outputs": [
    {
     "name": "stdout",
     "output_type": "stream",
     "text": [
      "['crailar', 'monocel', 'tencel', 'pla polylactide', 'ramie', 'modal', 'lenzing', 'acrylic', 'polyacrylic', 'rayon', 'spandex', 'elastane', 'acetate', 'alpaca', 'cashmere', 'mohair', 'bamboo', 'silk', 'banana', 'cork', 'jute', 'nettle', 'sisal', 'spanish broom', 'abaca', 'crab shell', 'lyocell', 'coconut choir', 'kapok', 'ramie', 'feathers', 'feather', 'orange fibre', 'soy bean', 'rubber', 'angora', 'casein', 'elastothane', 'polyethylene', 'polytrimethylene', 'teraphtalate']\n"
     ]
    }
   ],
   "source": [
    "rest_group = fibres_list\n",
    "for group in multi_fb_group_list:\n",
    "    rest_group = [s for s in rest_group if s not in group]\n",
    "\n",
    "print(rest_group)"
   ]
  },
  {
   "cell_type": "code",
   "execution_count": 125,
   "metadata": {},
   "outputs": [
    {
     "name": "stdout",
     "output_type": "stream",
     "text": [
      "[6, 5, 3, 3, 7, 5, 3, 6]\n",
      "41\n"
     ]
    }
   ],
   "source": [
    "nr_in_mfb_groups = []\n",
    "for group in multi_fb_group_list:\n",
    "    nr_in_mfb_groups.append(len(group))\n",
    "print(nr_in_mfb_groups)\n",
    "print(len(rest_group))\n",
    "assert len(fibres_list) == sum(nr_in_mfb_groups, len(rest_group))"
   ]
  },
  {
   "cell_type": "code",
   "execution_count": 146,
   "metadata": {},
   "outputs": [
    {
     "data": {
      "text/html": [
       "<div>\n",
       "<style scoped>\n",
       "    .dataframe tbody tr th:only-of-type {\n",
       "        vertical-align: middle;\n",
       "    }\n",
       "\n",
       "    .dataframe tbody tr th {\n",
       "        vertical-align: top;\n",
       "    }\n",
       "\n",
       "    .dataframe thead th {\n",
       "        text-align: right;\n",
       "    }\n",
       "</style>\n",
       "<table border=\"1\" class=\"dataframe\">\n",
       "  <thead>\n",
       "    <tr style=\"text-align: right;\">\n",
       "      <th></th>\n",
       "      <th>0</th>\n",
       "      <th>1</th>\n",
       "    </tr>\n",
       "  </thead>\n",
       "  <tbody>\n",
       "    <tr>\n",
       "      <th>0</th>\n",
       "      <td>elastane</td>\n",
       "      <td>[1% elastano / elastane / elasthan /]</td>\n",
       "    </tr>\n",
       "    <tr>\n",
       "      <th>1</th>\n",
       "      <td>nylon</td>\n",
       "      <td>[13% poliamida / nylon / polyamid /]</td>\n",
       "    </tr>\n",
       "    <tr>\n",
       "      <th>2</th>\n",
       "      <td>wool</td>\n",
       "      <td>[36% lana / wool / wolle / laine /]</td>\n",
       "    </tr>\n",
       "    <tr>\n",
       "      <th>3</th>\n",
       "      <td>alpaca</td>\n",
       "      <td>[18% alpaca / alpaca / alpaka /, alpaga / alna...</td>\n",
       "    </tr>\n",
       "    <tr>\n",
       "      <th>4</th>\n",
       "      <td>polyamide</td>\n",
       "      <td>[folyamide / poliammidica / polyamide]</td>\n",
       "    </tr>\n",
       "  </tbody>\n",
       "</table>\n",
       "</div>"
      ],
      "text/plain": [
       "           0                                                  1\n",
       "0   elastane              [1% elastano / elastane / elasthan /]\n",
       "1      nylon               [13% poliamida / nylon / polyamid /]\n",
       "2       wool                [36% lana / wool / wolle / laine /]\n",
       "3     alpaca  [18% alpaca / alpaca / alpaka /, alpaga / alna...\n",
       "4  polyamide             [folyamide / poliammidica / polyamide]"
      ]
     },
     "execution_count": 146,
     "metadata": {},
     "output_type": "execute_result"
    }
   ],
   "source": [
    "def get_matches(ocr_splitted):\n",
    "    all_matches = []\n",
    "    for fibre in fibres_list:\n",
    "        matching = [s.lower() for s in ocr_splitted if fibre in s.lower()]\n",
    "        if matching:\n",
    "            matched = [fibre, matching]\n",
    "            all_matches.append(matched)\n",
    "\n",
    "    all_matches_df = pd.DataFrame(all_matches)\n",
    "    return all_matches_df\n",
    "\n",
    "all_matches2_df = get_matches(ocr_splitted2)\n",
    "all_matches2_df"
   ]
  },
  {
   "cell_type": "markdown",
   "metadata": {},
   "source": [
    "Findings:\n",
    "polyamide should be disregarded (synonymous for nylon), \n",
    "acrylic not detected (since not exact wording)\n",
    "alpaca % not correct (should be 15 instead of 18)\n",
    "Try and take better picture"
   ]
  },
  {
   "cell_type": "code",
   "execution_count": 128,
   "metadata": {},
   "outputs": [
    {
     "data": {
      "text/html": [
       "<div>\n",
       "<style scoped>\n",
       "    .dataframe tbody tr th:only-of-type {\n",
       "        vertical-align: middle;\n",
       "    }\n",
       "\n",
       "    .dataframe tbody tr th {\n",
       "        vertical-align: top;\n",
       "    }\n",
       "\n",
       "    .dataframe thead th {\n",
       "        text-align: right;\n",
       "    }\n",
       "</style>\n",
       "<table border=\"1\" class=\"dataframe\">\n",
       "  <thead>\n",
       "    <tr style=\"text-align: right;\">\n",
       "      <th></th>\n",
       "      <th>1</th>\n",
       "    </tr>\n",
       "    <tr>\n",
       "      <th>0</th>\n",
       "      <th></th>\n",
       "    </tr>\n",
       "  </thead>\n",
       "  <tbody>\n",
       "    <tr>\n",
       "      <th>elastane</th>\n",
       "      <td>[1% elastano / elastane / elasthan /]</td>\n",
       "    </tr>\n",
       "    <tr>\n",
       "      <th>nylon</th>\n",
       "      <td>[13% poliamida / nylon / polyamid /]</td>\n",
       "    </tr>\n",
       "    <tr>\n",
       "      <th>wool</th>\n",
       "      <td>[36% lana / wool / wolle / laine /]</td>\n",
       "    </tr>\n",
       "    <tr>\n",
       "      <th>alpaca</th>\n",
       "      <td>[18% alpaca / alpaca / alpaka /, alpaga / alna...</td>\n",
       "    </tr>\n",
       "    <tr>\n",
       "      <th>polyamide</th>\n",
       "      <td>[folyamide / poliammidica / polyamide]</td>\n",
       "    </tr>\n",
       "  </tbody>\n",
       "</table>\n",
       "</div>"
      ],
      "text/plain": [
       "                                                           1\n",
       "0                                                           \n",
       "elastane               [1% elastano / elastane / elasthan /]\n",
       "nylon                   [13% poliamida / nylon / polyamid /]\n",
       "wool                     [36% lana / wool / wolle / laine /]\n",
       "alpaca     [18% alpaca / alpaca / alpaka /, alpaga / alna...\n",
       "polyamide             [folyamide / poliammidica / polyamide]"
      ]
     },
     "execution_count": 128,
     "metadata": {},
     "output_type": "execute_result"
    }
   ],
   "source": [
    "ind_all_matches2_df = all_matches2_df.set_index(0)\n",
    "ind_all_matches2_df"
   ]
  },
  {
   "cell_type": "code",
   "execution_count": 145,
   "metadata": {},
   "outputs": [
    {
     "data": {
      "text/html": [
       "<div>\n",
       "<style scoped>\n",
       "    .dataframe tbody tr th:only-of-type {\n",
       "        vertical-align: middle;\n",
       "    }\n",
       "\n",
       "    .dataframe tbody tr th {\n",
       "        vertical-align: top;\n",
       "    }\n",
       "\n",
       "    .dataframe thead th {\n",
       "        text-align: right;\n",
       "    }\n",
       "</style>\n",
       "<table border=\"1\" class=\"dataframe\">\n",
       "  <thead>\n",
       "    <tr style=\"text-align: right;\">\n",
       "      <th></th>\n",
       "      <th>fiber</th>\n",
       "      <th>percentage</th>\n",
       "    </tr>\n",
       "  </thead>\n",
       "  <tbody>\n",
       "    <tr>\n",
       "      <th>0</th>\n",
       "      <td>nylon</td>\n",
       "      <td>13%</td>\n",
       "    </tr>\n",
       "    <tr>\n",
       "      <th>1</th>\n",
       "      <td>wool</td>\n",
       "      <td>36%</td>\n",
       "    </tr>\n",
       "    <tr>\n",
       "      <th>2</th>\n",
       "      <td>elastane</td>\n",
       "      <td>1%</td>\n",
       "    </tr>\n",
       "    <tr>\n",
       "      <th>3</th>\n",
       "      <td>alpaca</td>\n",
       "      <td>18%</td>\n",
       "    </tr>\n",
       "  </tbody>\n",
       "</table>\n",
       "</div>"
      ],
      "text/plain": [
       "      fiber percentage\n",
       "0     nylon        13%\n",
       "1      wool        36%\n",
       "2  elastane         1%\n",
       "3    alpaca        18%"
      ]
     },
     "execution_count": 145,
     "metadata": {},
     "output_type": "execute_result"
    }
   ],
   "source": [
    "def get_fiber_pct(df):\n",
    "    ind_df = df.set_index(0)\n",
    "\n",
    "    tag_info = pd.DataFrame(columns = [\"fiber\", \"percentage\"])\n",
    "\n",
    "    for group in multi_fb_group_list:\n",
    "        if df[0].isin(group).any() == True:\n",
    "            grouped_fibres = df[0][df[0].isin(group)]\n",
    "\n",
    "            fb_key = max(grouped_fibres, key=len)\n",
    "            if fb_key == \"polyamide\" and grouped_fibres.iloc[0] == 'nylon':\n",
    "                fb_key = 'nylon'\n",
    "            \n",
    "            pct = get_pct(ind_df, fb_key)\n",
    "            tag_info.loc[len(tag_info)] = [fb_key,pct]\n",
    "\n",
    "    if df[0].isin(rest_group).any() == True:\n",
    "        for match in df[0][df[0].isin(rest_group)]:\n",
    "            fb_key = match\n",
    "            pct = get_pct(ind_df, fb_key)\n",
    "            tag_info.loc[len(tag_info)] = [fb_key,pct]\n",
    "\n",
    "    return tag_info\n",
    "\n",
    "def get_pct(ind_df, fb_key):\n",
    "    int_tag_lines = ind_df.loc[fb_key][1]\n",
    "    #print(f\"interesting tag lines: {int_tag_lines}\")\n",
    "    pt = re.search(r'((\\d+)[%])',int_tag_lines[0])\n",
    "    pct = pt.group(0)\n",
    "    \n",
    "    return pct\n",
    "\n",
    "get_fiber_pct(all_matches2_df)"
   ]
  },
  {
   "cell_type": "code",
   "execution_count": null,
   "metadata": {},
   "outputs": [],
   "source": []
  }
 ],
 "metadata": {
  "kernelspec": {
   "display_name": "Python 3",
   "language": "python",
   "name": "python3"
  },
  "language_info": {
   "codemirror_mode": {
    "name": "ipython",
    "version": 3
   },
   "file_extension": ".py",
   "mimetype": "text/x-python",
   "name": "python",
   "nbconvert_exporter": "python",
   "pygments_lexer": "ipython3",
   "version": "3.7.7"
  },
  "toc": {
   "base_numbering": 1,
   "nav_menu": {},
   "number_sections": true,
   "sideBar": true,
   "skip_h1_title": false,
   "title_cell": "Table of Contents",
   "title_sidebar": "Contents",
   "toc_cell": false,
   "toc_position": {},
   "toc_section_display": true,
   "toc_window_display": false
  }
 },
 "nbformat": 4,
 "nbformat_minor": 4
}
